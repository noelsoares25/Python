{
 "cells": [
  {
   "cell_type": "code",
   "execution_count": 10,
   "metadata": {},
   "outputs": [
    {
     "name": "stdout",
     "output_type": "stream",
     "text": [
      "enter the string: noel\n",
      "n\n",
      "o\n",
      "e\n",
      "l\n"
     ]
    }
   ],
   "source": [
    "#Q1\n",
    "s=input('enter the string: ')\n",
    "for i in s:\n",
    "    print(i)"
   ]
  },
  {
   "cell_type": "code",
   "execution_count": 9,
   "metadata": {},
   "outputs": [
    {
     "name": "stdout",
     "output_type": "stream",
     "text": [
      "enter the string: noel\n",
      "110\n",
      "111\n",
      "101\n",
      "108\n"
     ]
    }
   ],
   "source": [
    "#Q2\n",
    "s=input('enter the string: ')\n",
    "for i in s:\n",
    "    print(ord(i))"
   ]
  },
  {
   "cell_type": "code",
   "execution_count": 12,
   "metadata": {},
   "outputs": [
    {
     "name": "stdout",
     "output_type": "stream",
     "text": [
      "enter the size of the lsit: 5\n",
      "enter the values to be inserted in the list: 1\n",
      "enter the values to be inserted in the list: 2\n",
      "enter the values to be inserted in the list: 3\n",
      "enter the values to be inserted in the list: 4\n",
      "enter the values to be inserted in the list: 5\n",
      "the input list is:  [1, 2, 3, 4, 5]\n",
      "the sum of odd numbers is:  9\n"
     ]
    }
   ],
   "source": [
    "#Q3\n",
    "def odd(n_list):\n",
    "    sum=0\n",
    "    for i in n_list:\n",
    "        if i%2 !=0:\n",
    "            sum+=i\n",
    "    return sum\n",
    "\n",
    "n_list=[]\n",
    "n=int(input('enter the size of the lsit: '))\n",
    "for j in range(n):\n",
    "    x=int(input('enter the values to be inserted in the list: '))\n",
    "    n_list.append(x)\n",
    "print('the input list is: ',n_list)\n",
    "print('the sum of odd numbers is: ',odd(n_list))"
   ]
  },
  {
   "cell_type": "code",
   "execution_count": 21,
   "metadata": {},
   "outputs": [
    {
     "name": "stdout",
     "output_type": "stream",
     "text": [
      "enter the size of the lsit: 5\n",
      "enter the values to be inserted in the list: 1\n",
      "enter the values to be inserted in the list: 2\n",
      "enter the values to be inserted in the list: 3\n",
      "enter the values to be inserted in the list: 4\n",
      "enter the values to be inserted in the list: 5\n",
      "the input list is:  [1, 2, 3, 4, 5]\n",
      "(1, 2, 3, 4, 5)\n",
      "enter the number: 6\n",
      "5\n",
      "6\n"
     ]
    }
   ],
   "source": [
    "#Q4\n",
    "n_list=[]\n",
    "n=int(input('enter the size of the lsit: '))\n",
    "for j in range(n):\n",
    "    x=int(input('enter the values to be inserted in the list: '))\n",
    "    n_list.append(x)\n",
    "print('the input list is: ',n_list)\n",
    "t=tuple(n_list)\n",
    "print(t)\n",
    "\n",
    "a=int(input('enter the number: '))\n",
    "n_list.append(a)\n",
    "t=tuple(n_list)\n",
    "print(t.index(a))"
   ]
  },
  {
   "cell_type": "code",
   "execution_count": 38,
   "metadata": {},
   "outputs": [
    {
     "name": "stdout",
     "output_type": "stream",
     "text": [
      "the sum is:  281\n",
      "the average is:  28.1\n",
      "the list is:  [16, 49, 18, 41, 48, 16, 4, 29, 13, 47]\n",
      "the list with even index is:  [16, 18, 48, 4, 13]\n"
     ]
    }
   ],
   "source": [
    "#Q5\n",
    "import random\n",
    "m_list=[]\n",
    "even=[]\n",
    "total=0\n",
    "for i in range(10):\n",
    "    n=random.randrange(1,50)\n",
    "    m_list.append(n)\n",
    "    total+=n\n",
    "avg=total/10\n",
    "print('the sum is: ',total)\n",
    "print('the average is: ',avg)\n",
    "print('the list is: ',m_list)\n",
    "for j in range(len(m_list)):\n",
    "    if j%2==0:\n",
    "        even.append(m_list[j])\n",
    "print('the list with even index is: ',even)"
   ]
  },
  {
   "cell_type": "code",
   "execution_count": 41,
   "metadata": {},
   "outputs": [
    {
     "name": "stdout",
     "output_type": "stream",
     "text": [
      "enter the number: 1\n",
      "enter the number: 2\n",
      "enter the number: 3\n",
      "enter the number: 4\n",
      "enter the number: 5\n",
      "enter the number: 6\n",
      "enter the number: 7\n",
      "enter the number: 8\n",
      "enter the number: 9\n",
      "enter the number: 10\n",
      "the list is:  [1, 2, 3, 4, 5, 6, 7, 8, 9, 10]\n",
      "the total is:  55\n"
     ]
    }
   ],
   "source": [
    "#Q6\n",
    "m_list=[]\n",
    "total=0\n",
    "for i in range(10):\n",
    "    n=int(input('enter the number: '))\n",
    "    m_list.append(n)\n",
    "    total+=n\n",
    "print('the list is: ',m_list)\n",
    "print('the total is: ',total)"
   ]
  },
  {
   "cell_type": "code",
   "execution_count": 42,
   "metadata": {},
   "outputs": [
    {
     "name": "stdout",
     "output_type": "stream",
     "text": [
      "enter the number: 7\n",
      "7  x  1  =  7\n",
      "7  x  2  =  14\n",
      "7  x  3  =  21\n",
      "7  x  4  =  28\n",
      "7  x  5  =  35\n",
      "7  x  6  =  42\n",
      "7  x  7  =  49\n",
      "7  x  8  =  56\n",
      "7  x  9  =  63\n",
      "7  x  10  =  70\n"
     ]
    }
   ],
   "source": [
    "#Q7\n",
    "n=int(input('enter the number: '))\n",
    "for i in range(1,11):\n",
    "    print(n,' x ',i,' = ',n*i)"
   ]
  },
  {
   "cell_type": "code",
   "execution_count": 53,
   "metadata": {},
   "outputs": [
    {
     "name": "stdout",
     "output_type": "stream",
     "text": [
      "enter the string: he is a good boy\n",
      "4\n",
      "4\n"
     ]
    }
   ],
   "source": [
    "#Q8\n",
    "str1=input('enter the string: ')\n",
    "s=str1.count(' ')\n",
    "print(s)\n",
    "\n",
    "c=0\n",
    "for i in str1:\n",
    "    if (i==' '):\n",
    "        c+=1\n",
    "print(c)"
   ]
  },
  {
   "cell_type": "code",
   "execution_count": 55,
   "metadata": {},
   "outputs": [
    {
     "name": "stdout",
     "output_type": "stream",
     "text": [
      "Enter the string: noel\n",
      "The number of vowels in the given string is:  2\n"
     ]
    }
   ],
   "source": [
    "#Q9\n",
    "str3 = input(\"Enter the string: \")\n",
    "count = 0\n",
    "vowel = set(\"aeiouAEIOU\")\n",
    "\n",
    "for j in str3:\n",
    "    if j in vowel:\n",
    "        count += 1\n",
    "print(\"The number of vowels in the given string is: \",count)    "
   ]
  },
  {
   "cell_type": "code",
   "execution_count": 84,
   "metadata": {},
   "outputs": [
    {
     "name": "stdout",
     "output_type": "stream",
     "text": [
      "Enter the string: noel\n",
      "['n', 'o', 'e', 'l']\n",
      "The number of vowels in the given string is:  _____\n"
     ]
    }
   ],
   "source": [
    "#Q10\n",
    "str3 = input(\"Enter the string: \")\n",
    "list1=list(str3)\n",
    "print(list1)\n",
    "vowel = set(\"aeiouAEIOU\")\n",
    "for j in str3:\n",
    "    if j in vowel:\n",
    "       s=str3.replace(j,'_')\n",
    "    str3=s\n",
    "print(\"The number of vowels in the given string is: \",s)    "
   ]
  },
  {
   "cell_type": "code",
   "execution_count": 90,
   "metadata": {},
   "outputs": [
    {
     "name": "stdout",
     "output_type": "stream",
     "text": [
      "Num:  0\n",
      "Loop Ends\n",
      "\n",
      "Num:  0\n"
     ]
    },
    {
     "ename": "SystemExit",
     "evalue": "",
     "output_type": "error",
     "traceback": [
      "An exception has occurred, use %tb to see the full traceback.\n",
      "\u001b[1;31mSystemExit\u001b[0m\n"
     ]
    },
    {
     "name": "stderr",
     "output_type": "stream",
     "text": [
      "C:\\Users\\NOEL\\Anaconda3\\lib\\site-packages\\IPython\\core\\interactiveshell.py:3333: UserWarning: To exit: use 'exit', 'quit', or Ctrl-D.\n",
      "  warn(\"To exit: use 'exit', 'quit', or Ctrl-D.\", stacklevel=1)\n"
     ]
    }
   ],
   "source": [
    "#Q11\n",
    "for num in range(10):\n",
    "    print('Num: ',num)\n",
    "    if num%4==0:\n",
    "        break\n",
    "print('Loop Ends')\n",
    "\n",
    "print()\n",
    "import sys\n",
    "for num in range(10):\n",
    "    print('Num: ',num)\n",
    "    if num%4==0:\n",
    "        sys.exit()\n",
    "print('Loop Ends')"
   ]
  },
  {
   "cell_type": "code",
   "execution_count": 93,
   "metadata": {},
   "outputs": [
    {
     "ename": "SyntaxError",
     "evalue": "keyword can't be an expression (<ipython-input-93-149c15cd627a>, line 4)",
     "output_type": "error",
     "traceback": [
      "\u001b[1;36m  File \u001b[1;32m\"<ipython-input-93-149c15cd627a>\"\u001b[1;36m, line \u001b[1;32m4\u001b[0m\n\u001b[1;33m    print('*'. ends='')\u001b[0m\n\u001b[1;37m         ^\u001b[0m\n\u001b[1;31mSyntaxError\u001b[0m\u001b[1;31m:\u001b[0m keyword can't be an expression\n"
     ]
    }
   ],
   "source": [
    "#Q12\n",
    "for i1 in range(1,6):\n",
    "    for i2 in range(5):\n",
    "        print('*'. ends='')\n",
    "        print()\n",
    "\n"
   ]
  },
  {
   "cell_type": "code",
   "execution_count": 94,
   "metadata": {},
   "outputs": [
    {
     "name": "stdout",
     "output_type": "stream",
     "text": [
      "\n",
      "1\n",
      "22\n",
      "333\n",
      "4444\n",
      "55555\n"
     ]
    }
   ],
   "source": [
    "print()\n",
    "for i1 in range(1,6):\n",
    "    print(str(i1)*i1)\n",
    "    \n"
   ]
  },
  {
   "cell_type": "code",
   "execution_count": 95,
   "metadata": {},
   "outputs": [
    {
     "name": "stdout",
     "output_type": "stream",
     "text": [
      "\n",
      "122333444455555\n"
     ]
    }
   ],
   "source": [
    "print()\n",
    "for i1 in range(1,6):\n",
    "    for i2 in range(i1):\n",
    "        print(i1, end='')\n",
    "print()\n"
   ]
  },
  {
   "cell_type": "code",
   "execution_count": 96,
   "metadata": {},
   "outputs": [
    {
     "ename": "SyntaxError",
     "evalue": "invalid syntax (<ipython-input-96-10f68cd2b71d>, line 3)",
     "output_type": "error",
     "traceback": [
      "\u001b[1;36m  File \u001b[1;32m\"<ipython-input-96-10f68cd2b71d>\"\u001b[1;36m, line \u001b[1;32m3\u001b[0m\n\u001b[1;33m    fro i2 in range(i1+1\u001b[0m\n\u001b[1;37m         ^\u001b[0m\n\u001b[1;31mSyntaxError\u001b[0m\u001b[1;31m:\u001b[0m invalid syntax\n"
     ]
    }
   ],
   "source": [
    "print()\n",
    "for i1 in range(1,6):\n",
    "    fro i2 in range(i1+1\n",
    "        print('*'.end='')\n",
    "        print()"
   ]
  },
  {
   "cell_type": "code",
   "execution_count": null,
   "metadata": {},
   "outputs": [],
   "source": []
  }
 ],
 "metadata": {
  "kernelspec": {
   "display_name": "Python 3",
   "language": "python",
   "name": "python3"
  },
  "language_info": {
   "codemirror_mode": {
    "name": "ipython",
    "version": 3
   },
   "file_extension": ".py",
   "mimetype": "text/x-python",
   "name": "python",
   "nbconvert_exporter": "python",
   "pygments_lexer": "ipython3",
   "version": "3.7.3"
  }
 },
 "nbformat": 4,
 "nbformat_minor": 2
}
