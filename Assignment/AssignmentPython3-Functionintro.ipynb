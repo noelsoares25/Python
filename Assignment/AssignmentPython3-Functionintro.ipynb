{
 "cells": [
  {
   "cell_type": "code",
   "execution_count": 1,
   "metadata": {},
   "outputs": [
    {
     "name": "stdout",
     "output_type": "stream",
     "text": [
      "enter the string1: noel\n",
      "enter the string1: soares\n",
      "('soares', 'noel')\n"
     ]
    }
   ],
   "source": [
    "#Q1\n",
    "def swap(a,b):\n",
    "    c=a\n",
    "    a=b\n",
    "    b=c\n",
    "    return a,b\n",
    "s1=input('enter the string1: ')\n",
    "s2=input('enter the string1: ')\n",
    "print(swap(s1,s2))"
   ]
  },
  {
   "cell_type": "code",
   "execution_count": 2,
   "metadata": {},
   "outputs": [
    {
     "name": "stdout",
     "output_type": "stream",
     "text": [
      "4 21 6 16\n",
      "avg= 11.75\n"
     ]
    }
   ],
   "source": [
    "#Q2\n",
    "import random\n",
    "s1=random.randrange(0,26)\n",
    "s2=random.randrange(0,26)\n",
    "s3=random.randrange(0,26)\n",
    "s4=random.randrange(0,26)\n",
    "print(s1,s2,s3,s4)\n",
    "a=(s1+s2+s3+s4)/4\n",
    "print('avg=',a)"
   ]
  },
  {
   "cell_type": "code",
   "execution_count": 4,
   "metadata": {},
   "outputs": [
    {
     "name": "stdout",
     "output_type": "stream",
     "text": [
      "ABCDEFGHIJKLMNOPQRSTUVWXYZ\n",
      "8\n",
      "I\n"
     ]
    },
    {
     "data": {
      "text/plain": [
       "['__add__',\n",
       " '__class__',\n",
       " '__contains__',\n",
       " '__delattr__',\n",
       " '__dir__',\n",
       " '__doc__',\n",
       " '__eq__',\n",
       " '__format__',\n",
       " '__ge__',\n",
       " '__getattribute__',\n",
       " '__getitem__',\n",
       " '__getnewargs__',\n",
       " '__gt__',\n",
       " '__hash__',\n",
       " '__init__',\n",
       " '__init_subclass__',\n",
       " '__iter__',\n",
       " '__le__',\n",
       " '__len__',\n",
       " '__lt__',\n",
       " '__mod__',\n",
       " '__mul__',\n",
       " '__ne__',\n",
       " '__new__',\n",
       " '__reduce__',\n",
       " '__reduce_ex__',\n",
       " '__repr__',\n",
       " '__rmod__',\n",
       " '__rmul__',\n",
       " '__setattr__',\n",
       " '__sizeof__',\n",
       " '__str__',\n",
       " '__subclasshook__',\n",
       " 'capitalize',\n",
       " 'casefold',\n",
       " 'center',\n",
       " 'count',\n",
       " 'encode',\n",
       " 'endswith',\n",
       " 'expandtabs',\n",
       " 'find',\n",
       " 'format',\n",
       " 'format_map',\n",
       " 'index',\n",
       " 'isalnum',\n",
       " 'isalpha',\n",
       " 'isascii',\n",
       " 'isdecimal',\n",
       " 'isdigit',\n",
       " 'isidentifier',\n",
       " 'islower',\n",
       " 'isnumeric',\n",
       " 'isprintable',\n",
       " 'isspace',\n",
       " 'istitle',\n",
       " 'isupper',\n",
       " 'join',\n",
       " 'ljust',\n",
       " 'lower',\n",
       " 'lstrip',\n",
       " 'maketrans',\n",
       " 'partition',\n",
       " 'replace',\n",
       " 'rfind',\n",
       " 'rindex',\n",
       " 'rjust',\n",
       " 'rpartition',\n",
       " 'rsplit',\n",
       " 'rstrip',\n",
       " 'split',\n",
       " 'splitlines',\n",
       " 'startswith',\n",
       " 'strip',\n",
       " 'swapcase',\n",
       " 'title',\n",
       " 'translate',\n",
       " 'upper',\n",
       " 'zfill']"
      ]
     },
     "execution_count": 4,
     "metadata": {},
     "output_type": "execute_result"
    }
   ],
   "source": [
    "#Q3\n",
    "import random\n",
    "s='abcdefghijklmnopqrstuvwxyz'\n",
    "l=len(s)\n",
    "s1=s.split()\n",
    "print(s1[0].upper())\n",
    "a=random.randrange(0,l)\n",
    "print(a)\n",
    "print(s[a].upper())\n",
    "dir(str)"
   ]
  },
  {
   "cell_type": "code",
   "execution_count": 3,
   "metadata": {},
   "outputs": [
    {
     "name": "stdout",
     "output_type": "stream",
     "text": [
      "enter the princile: 2\n",
      "enter the rate: 4\n",
      "enter the time: 3\n",
      "simple interest is:  0.024\n"
     ]
    }
   ],
   "source": [
    "# Q4\n",
    "def get_si(p,r,t):\n",
    "    i=(p*r*t)/1000\n",
    "    return i\n",
    "p=int(input('enter the princile: '))\n",
    "r=int(input('enter the rate: '))\n",
    "t=int(input('enter the time: '))\n",
    "s=get_si(p,r,t)\n",
    "print('simple interest is: ',s)"
   ]
  },
  {
   "cell_type": "code",
   "execution_count": 4,
   "metadata": {},
   "outputs": [
    {
     "name": "stdout",
     "output_type": "stream",
     "text": [
      "Simple Intrest :  120.0\n",
      "Amount :  12000.0\n"
     ]
    }
   ],
   "source": [
    "# Q5\n",
    "\n",
    "def get_amount(p,n,r = 10,t = 1) :\n",
    "    return p*(1 + r/n)*n*t\n",
    "\n",
    "\n",
    "def get_si(p,r,t):\n",
    "    return (p*r*t)/100\n",
    "\n",
    "print('Simple Intrest : ',get_si(1000,4,3))\n",
    "print('Amount : ',get_amount(1000,2))"
   ]
  },
  {
   "cell_type": "code",
   "execution_count": 7,
   "metadata": {},
   "outputs": [
    {
     "name": "stdout",
     "output_type": "stream",
     "text": [
      "enter the princile: 333\n",
      "enter the no of times interest is compouned per year: 2\n",
      "enter the rate: 2\n",
      "enter the time: 2\n",
      "simple interest is:  5328.0\n"
     ]
    }
   ],
   "source": [
    "#Q6\n",
    "def get_ci(p,n,r,t):\n",
    "    i=p*(1+(r/n))**(n*t)\n",
    "    return i\n",
    "p=int(input('enter the princile: '))\n",
    "n=int(input('enter the no of times interest is compouned per year: '))\n",
    "r=int(input('enter the rate: '))\n",
    "t=int(input('enter the time: '))\n",
    "c=get_ci(p,n,r,t)\n",
    "print('simple interest is: ',c)"
   ]
  },
  {
   "cell_type": "code",
   "execution_count": 11,
   "metadata": {},
   "outputs": [
    {
     "name": "stdout",
     "output_type": "stream",
     "text": [
      "Enter the divident: 7\n",
      "Enter the divisor: 3\n",
      "(2.3333333333333335, 1)\n"
     ]
    }
   ],
   "source": [
    "# Q7\n",
    "def get_q_r(div,dor):\n",
    "    quo=div/dor\n",
    "    rem=div%dor\n",
    "    return quo,rem\n",
    "\n",
    "n1=int(input('Enter the divident: '))\n",
    "n2=int(input('Enter the divisor: '))\n",
    "s=tuple(get_q_r(n1,n2))\n",
    "print(s)"
   ]
  },
  {
   "cell_type": "code",
   "execution_count": 15,
   "metadata": {},
   "outputs": [
    {
     "name": "stdout",
     "output_type": "stream",
     "text": [
      "enter the height: 6\n",
      "enter the base: 4\n",
      "7.211102550927978\n"
     ]
    }
   ],
   "source": [
    "#Q8\n",
    "import math\n",
    "from math import sqrt\n",
    "n1=int(input('enter the height: '))\n",
    "n2=int(input('enter the base: '))\n",
    "h=(n1*n1)+(n2*n2)\n",
    "hypo=sqrt(h)\n",
    "print(hypo)"
   ]
  },
  {
   "cell_type": "code",
   "execution_count": 17,
   "metadata": {},
   "outputs": [
    {
     "name": "stdout",
     "output_type": "stream",
     "text": [
      "Enter the number of seconds: 10000\n",
      "0 days 2 hours 46 minutes 40 sec\n"
     ]
    }
   ],
   "source": [
    "#Q9\n",
    "sec=int(input('Enter the number of seconds: '))\n",
    "days=s//(60*60*24)\n",
    "sec=sec%(60*60*24)\n",
    "hrs=sec//(60*60)\n",
    "sec=sec%(60*60)\n",
    "min=sec//60\n",
    "sec=sec%60\n",
    "print(days,'days',hrs,'hours',min,'minutes',sec,'sec')"
   ]
  },
  {
   "cell_type": "code",
   "execution_count": 22,
   "metadata": {},
   "outputs": [
    {
     "name": "stdout",
     "output_type": "stream",
     "text": [
      "3.7.3\n"
     ]
    }
   ],
   "source": [
    "#Q10\n",
    "from platform import python_version\n",
    "print(python_version())"
   ]
  },
  {
   "cell_type": "code",
   "execution_count": 23,
   "metadata": {},
   "outputs": [
    {
     "name": "stdout",
     "output_type": "stream",
     "text": [
      "2 -2\n"
     ]
    }
   ],
   "source": [
    "#Q11\n",
    "X=2\n",
    "X*=3\n",
    "X=X%4\n",
    "Y=-X\n",
    "print(X,Y)"
   ]
  },
  {
   "cell_type": "code",
   "execution_count": 24,
   "metadata": {},
   "outputs": [
    {
     "name": "stdout",
     "output_type": "stream",
     "text": [
      "None\n"
     ]
    }
   ],
   "source": [
    "#Q12\n",
    "def funct():\n",
    "    pass\n",
    "print(funct())"
   ]
  },
  {
   "cell_type": "code",
   "execution_count": 28,
   "metadata": {},
   "outputs": [
    {
     "data": {
      "text/plain": [
       "['__abs__',\n",
       " '__add__',\n",
       " '__bool__',\n",
       " '__class__',\n",
       " '__delattr__',\n",
       " '__dir__',\n",
       " '__divmod__',\n",
       " '__doc__',\n",
       " '__eq__',\n",
       " '__float__',\n",
       " '__floordiv__',\n",
       " '__format__',\n",
       " '__ge__',\n",
       " '__getattribute__',\n",
       " '__getformat__',\n",
       " '__getnewargs__',\n",
       " '__gt__',\n",
       " '__hash__',\n",
       " '__init__',\n",
       " '__init_subclass__',\n",
       " '__int__',\n",
       " '__le__',\n",
       " '__lt__',\n",
       " '__mod__',\n",
       " '__mul__',\n",
       " '__ne__',\n",
       " '__neg__',\n",
       " '__new__',\n",
       " '__pos__',\n",
       " '__pow__',\n",
       " '__radd__',\n",
       " '__rdivmod__',\n",
       " '__reduce__',\n",
       " '__reduce_ex__',\n",
       " '__repr__',\n",
       " '__rfloordiv__',\n",
       " '__rmod__',\n",
       " '__rmul__',\n",
       " '__round__',\n",
       " '__rpow__',\n",
       " '__rsub__',\n",
       " '__rtruediv__',\n",
       " '__set_format__',\n",
       " '__setattr__',\n",
       " '__sizeof__',\n",
       " '__str__',\n",
       " '__sub__',\n",
       " '__subclasshook__',\n",
       " '__truediv__',\n",
       " '__trunc__',\n",
       " 'as_integer_ratio',\n",
       " 'conjugate',\n",
       " 'fromhex',\n",
       " 'hex',\n",
       " 'imag',\n",
       " 'is_integer',\n",
       " 'real']"
      ]
     },
     "execution_count": 28,
     "metadata": {},
     "output_type": "execute_result"
    }
   ],
   "source": [
    "#Q13\n",
    "import math\n",
    "dir(float)"
   ]
  },
  {
   "cell_type": "code",
   "execution_count": 1,
   "metadata": {},
   "outputs": [
    {
     "name": "stdout",
     "output_type": "stream",
     "text": [
      "enter the real number: 10\n",
      "enter the imaginary number: 20\n",
      "re=10 im=20\n"
     ]
    }
   ],
   "source": [
    "#Q13\n",
    "re=int(input('enter the real number: '))\n",
    "im=int(input('enter the imaginary number: '))\n",
    "print('re={} im={}'.format(re,im))"
   ]
  },
  {
   "cell_type": "code",
   "execution_count": 4,
   "metadata": {},
   "outputs": [
    {
     "name": "stdout",
     "output_type": "stream",
     "text": [
      "enter the real number: 30\n",
      "enter the imaginary number: 20\n",
      "(30, 20)\n",
      "re=10 im=20\n"
     ]
    }
   ],
   "source": [
    "#Q14\n",
    "def input_complex():\n",
    "    re=int(input('enter the real number: '))\n",
    "    im=int(input('enter the imaginary number: '))\n",
    "    return re,im\n",
    "\n",
    "def print_complex(re,im):\n",
    "    print('re={} im={}'.format(re,im))\n",
    "s = input_complex()\n",
    "print(s)\n",
    "print_complex(10,20)"
   ]
  },
  {
   "cell_type": "code",
   "execution_count": 5,
   "metadata": {},
   "outputs": [
    {
     "name": "stdout",
     "output_type": "stream",
     "text": [
      "addition is:  (15, 10)\n",
      "subtraction is:  (5, 30)\n"
     ]
    }
   ],
   "source": [
    "#Q15\n",
    "def add(re1,im1,re2,im2):\n",
    "    return re1+re2,im1+im2\n",
    "\n",
    "def sub(re1,im1,re2,im2):\n",
    "    return re1-re2,im1-im2\n",
    "\n",
    "a=add(10,20,5,-10)\n",
    "print('addition is: ',a)\n",
    "s=sub(10,20,5,-10)\n",
    "print('subtraction is: ',s)"
   ]
  },
  {
   "cell_type": "code",
   "execution_count": 6,
   "metadata": {},
   "outputs": [
    {
     "name": "stdout",
     "output_type": "stream",
     "text": [
      "conjugate is:  (5, -3)\n",
      "multiplication is:  (50, -200)\n",
      "division is :  (2, -2)\n"
     ]
    }
   ],
   "source": [
    "#Q16\n",
    "def conj(re,im):\n",
    "    return re,-im\n",
    "def mul(re1,im1,re2,im2):\n",
    "    return re1*re2,im1*im2\n",
    "def div(re1,im1,re2,im2):\n",
    "    return re1//re2,im1//im2\n",
    "\n",
    "c=conj(5,3)\n",
    "print('conjugate is: ',c)\n",
    "m=mul(10,20,5,-10)\n",
    "print('multiplication is: ',m)\n",
    "d=div(10,20,5,-10)\n",
    "print('division is : ',d)"
   ]
  },
  {
   "cell_type": "code",
   "execution_count": null,
   "metadata": {},
   "outputs": [],
   "source": []
  }
 ],
 "metadata": {
  "kernelspec": {
   "display_name": "Python 3",
   "language": "python",
   "name": "python3"
  },
  "language_info": {
   "codemirror_mode": {
    "name": "ipython",
    "version": 3
   },
   "file_extension": ".py",
   "mimetype": "text/x-python",
   "name": "python",
   "nbconvert_exporter": "python",
   "pygments_lexer": "ipython3",
   "version": "3.7.3"
  }
 },
 "nbformat": 4,
 "nbformat_minor": 2
}
