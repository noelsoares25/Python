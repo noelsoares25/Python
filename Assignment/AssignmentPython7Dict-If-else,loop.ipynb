{
 "cells": [
  {
   "cell_type": "code",
   "execution_count": 7,
   "metadata": {},
   "outputs": [
    {
     "name": "stdout",
     "output_type": "stream",
     "text": [
      "{1: -1, 2: -2, 3: -3, 4: -4}\n"
     ]
    }
   ],
   "source": [
    "#Q1\n",
    "d={}\n",
    "for i in range(1,5):\n",
    "    d[i]=-i\n",
    "print(d)"
   ]
  },
  {
   "cell_type": "markdown",
   "metadata": {},
   "source": [
    "#### Q2\n",
    "1.d={1=2,2=3}-invalid syntax \n",
    "2.d={1:2,2:3}-valid syntax \n",
    "3.d={1,2;2,3}-invalid syntax \n",
    "4.d={(1,2),(2,3)}-valid syntax \n",
    "5.d={'a':'A','b':1,c:[1234]}-valid syntax \n",
    "6.d={'a':'A','b':1,'c':[1234]}-valid syntax \n",
    "7.d=dict([(1,2),(2,3)])-valid syntax \n",
    "8.d=dict(((1,2),(2,3)))-valid syntax \n",
    "9.d=dict((1,2),(2,3)])-invalid syntax \n",
    "10.d=dict(x=2,y=3)-valid syntax \n",
    "11.d=dict('x'=2,'y'=3)-invalid syntax \n",
    "12.d=dict(1=2,2=3)-invalid syntax "
   ]
  },
  {
   "cell_type": "code",
   "execution_count": 28,
   "metadata": {},
   "outputs": [
    {
     "name": "stdout",
     "output_type": "stream",
     "text": [
      "{'a': 'A', 'b': 1, 'c': [1234]}\n"
     ]
    }
   ],
   "source": [
    "d={'a':'A','b':1,'c':[1234]}\n",
    "print(d)"
   ]
  },
  {
   "cell_type": "code",
   "execution_count": 30,
   "metadata": {},
   "outputs": [
    {
     "name": "stdout",
     "output_type": "stream",
     "text": [
      "{1: 10, 2: 20, 3: 30, 4: 40}\n"
     ]
    }
   ],
   "source": [
    "#Q3\n",
    "l1=[1,2,3,4]\n",
    "l2=[10,20,30,40]\n",
    "dic=dict(zip(l1,l2))\n",
    "print(dic)"
   ]
  },
  {
   "cell_type": "code",
   "execution_count": 32,
   "metadata": {},
   "outputs": [
    {
     "name": "stdout",
     "output_type": "stream",
     "text": [
      "{'A': 65, 'B': 66, 'C': 67, 'D': 68, 'E': 69, 'F': 70, 'G': 71, 'H': 72, 'I': 73, 'J': 74, 'K': 75, 'L': 76, 'M': 77, 'N': 78, 'O': 79, 'P': 80, 'Q': 81, 'R': 82, 'S': 83, 'T': 84, 'U': 85, 'V': 86, 'W': 87, 'X': 88, 'Y': 89, 'Z': 90}\n"
     ]
    }
   ],
   "source": [
    "#Q4\n",
    "b=[]\n",
    "d=[]\n",
    "for i in range(65,91):\n",
    "    b.append(chr(i))\n",
    "    d.append(i)\n",
    "dic=dict(zip(b,d))\n",
    "print(dic)"
   ]
  },
  {
   "cell_type": "code",
   "execution_count": 37,
   "metadata": {},
   "outputs": [
    {
     "name": "stdout",
     "output_type": "stream",
     "text": [
      "enter the number: 5\n",
      "5 : Five\n",
      "\n",
      "{0: 'Zero', 1: 'One', 2: 'Two', 3: 'Three', 4: 'Four', 5: 'Five', 6: 'Six', 7: 'Seven', 8: 'Eight', 9: 'Nine'}\n",
      "dict_keys([0, 1, 2, 3, 4, 5, 6, 7, 8, 9])\n",
      "dict_values(['Zero', 'One', 'Two', 'Three', 'Four', 'Five', 'Six', 'Seven', 'Eight', 'Nine'])\n",
      "dict_items([(0, 'Zero'), (1, 'One'), (2, 'Two'), (3, 'Three'), (4, 'Four'), (5, 'Five'), (6, 'Six'), (7, 'Seven'), (8, 'Eight'), (9, 'Nine')])\n"
     ]
    }
   ],
   "source": [
    "#Q5\n",
    "num=int(input('enter the number: '))\n",
    "word=''\n",
    "if(num==0):\n",
    "    word='Zero'\n",
    "if(num==1):\n",
    "    word='One'\n",
    "if(num==2):\n",
    "    word='Two'\n",
    "if(num==3):\n",
    "    word='Three'\n",
    "if(num==4):\n",
    "    word='Four'\n",
    "if(num==5):\n",
    "    word='Five'\n",
    "if(num==6):\n",
    "    word='Six'\n",
    "if(num==7):\n",
    "    word='Seven'\n",
    "if(num==8):\n",
    "    word='Eight'\n",
    "if(num==9):\n",
    "    word='Nine'\n",
    "print(num,':',word)\n",
    "\n",
    "print()\n",
    "num=[0,1,2,3,4,5,6,7,8,9]\n",
    "word=['Zero','One','Two','Three','Four','Five','Six','Seven','Eight','Nine']\n",
    "dicto=dict(zip(num,word))\n",
    "print(dicto)\n",
    "print(dicto.keys())\n",
    "print(dicto.values())\n",
    "print(dicto.items())"
   ]
  },
  {
   "cell_type": "markdown",
   "metadata": {},
   "source": [
    "#### Q6\n",
    "{'A':'Apple','B':'Ball','C':'Cat','D':'Dog'}\n",
    "{'A': 'Apple', 'C': 'Cat'}"
   ]
  },
  {
   "cell_type": "code",
   "execution_count": 91,
   "metadata": {},
   "outputs": [
    {
     "name": "stdout",
     "output_type": "stream",
     "text": [
      "Enter the string: noel\n",
      "{'u': 0, 'e': 1, 'o': 1, 'i': 0, 'a': 0}\n"
     ]
    }
   ],
   "source": [
    "#Q7\n",
    "str1 = input(\"Enter the string: \")\n",
    "vowel = set('aeiou')\n",
    "count={}.fromkeys(vowel,0)\n",
    "for x in str1:\n",
    "    if x in count:\n",
    "        count[x]+=1\n",
    "print(count)"
   ]
  },
  {
   "cell_type": "code",
   "execution_count": 84,
   "metadata": {},
   "outputs": [
    {
     "name": "stdout",
     "output_type": "stream",
     "text": [
      "Enter the string: soares\n",
      "{'s': 2, 'o': 1, 'a': 1, 'r': 1, 'e': 1}\n"
     ]
    }
   ],
   "source": [
    "#Q8\n",
    "str1=input(\"Enter the string: \")\n",
    "co={}\n",
    "for i in str1:\n",
    "    if i in co:\n",
    "        co[i]+=1\n",
    "    else:\n",
    "        co[i]=1\n",
    "print(co)"
   ]
  },
  {
   "cell_type": "code",
   "execution_count": 57,
   "metadata": {},
   "outputs": [
    {
     "name": "stdout",
     "output_type": "stream",
     "text": [
      "enter the  string: this is the time to see to is is\n",
      "{'this': 1, 'is': 3, 'the': 1, 'time': 1, 'to': 2, 'see': 1}\n"
     ]
    }
   ],
   "source": [
    "#Q9\n",
    "st=input('enter the  string: ')\n",
    "words=st.split()\n",
    "de={}\n",
    "for j in words: \n",
    "    if j in de:\n",
    "        de[j]+=1\n",
    "    else:\n",
    "        de[j]=1\n",
    "print(de)"
   ]
  },
  {
   "cell_type": "code",
   "execution_count": 74,
   "metadata": {},
   "outputs": [
    {
     "data": {
      "text/plain": [
       "['__class__',\n",
       " '__contains__',\n",
       " '__delattr__',\n",
       " '__delitem__',\n",
       " '__dir__',\n",
       " '__doc__',\n",
       " '__eq__',\n",
       " '__format__',\n",
       " '__ge__',\n",
       " '__getattribute__',\n",
       " '__getitem__',\n",
       " '__gt__',\n",
       " '__hash__',\n",
       " '__init__',\n",
       " '__init_subclass__',\n",
       " '__iter__',\n",
       " '__le__',\n",
       " '__len__',\n",
       " '__lt__',\n",
       " '__ne__',\n",
       " '__new__',\n",
       " '__reduce__',\n",
       " '__reduce_ex__',\n",
       " '__repr__',\n",
       " '__setattr__',\n",
       " '__setitem__',\n",
       " '__sizeof__',\n",
       " '__str__',\n",
       " '__subclasshook__',\n",
       " 'clear',\n",
       " 'copy',\n",
       " 'fromkeys',\n",
       " 'get',\n",
       " 'items',\n",
       " 'keys',\n",
       " 'pop',\n",
       " 'popitem',\n",
       " 'setdefault',\n",
       " 'update',\n",
       " 'values']"
      ]
     },
     "execution_count": 74,
     "metadata": {},
     "output_type": "execute_result"
    }
   ],
   "source": [
    "dir(dict)"
   ]
  },
  {
   "cell_type": "code",
   "execution_count": null,
   "metadata": {},
   "outputs": [],
   "source": []
  }
 ],
 "metadata": {
  "kernelspec": {
   "display_name": "Python 3",
   "language": "python",
   "name": "python3"
  },
  "language_info": {
   "codemirror_mode": {
    "name": "ipython",
    "version": 3
   },
   "file_extension": ".py",
   "mimetype": "text/x-python",
   "name": "python",
   "nbconvert_exporter": "python",
   "pygments_lexer": "ipython3",
   "version": "3.7.3"
  }
 },
 "nbformat": 4,
 "nbformat_minor": 2
}
