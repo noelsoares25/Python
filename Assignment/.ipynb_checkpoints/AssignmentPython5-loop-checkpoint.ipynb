{
 "cells": [
  {
   "cell_type": "code",
   "execution_count": 9,
   "metadata": {},
   "outputs": [
    {
     "name": "stdout",
     "output_type": "stream",
     "text": [
      "enter the value for n: 5\n",
      "1\n",
      "2\n",
      "3\n",
      "4\n",
      "5\n"
     ]
    }
   ],
   "source": [
    "#Q1\n",
    "n=int(input('enter the value for n: '))\n",
    "for x in range(1,n+1):\n",
    "    print(x)"
   ]
  },
  {
   "cell_type": "code",
   "execution_count": 2,
   "metadata": {},
   "outputs": [
    {
     "name": "stdout",
     "output_type": "stream",
     "text": [
      "enter the value for n: 5\n",
      "15\n"
     ]
    }
   ],
   "source": [
    "#Q2\n",
    "n=int(input('enter the value for n: '))\n",
    "total=0\n",
    "for x in range(0,n+1):\n",
    "    total+=x\n",
    "    \n",
    "print(total)"
   ]
  },
  {
   "cell_type": "code",
   "execution_count": 3,
   "metadata": {},
   "outputs": [
    {
     "name": "stdout",
     "output_type": "stream",
     "text": [
      "enter the value for n: 5\n",
      "5\n",
      "4\n",
      "3\n",
      "2\n",
      "1\n"
     ]
    }
   ],
   "source": [
    "#Q3\n",
    "n=int(input('enter the value for n: '))\n",
    "c=1\n",
    "x=n\n",
    "while c<=n:\n",
    "    print(x)\n",
    "    x-=1\n",
    "    c+=1"
   ]
  },
  {
   "cell_type": "code",
   "execution_count": 4,
   "metadata": {},
   "outputs": [
    {
     "name": "stdout",
     "output_type": "stream",
     "text": [
      "enter the number whose factorial to be found: 5\n",
      "the factorial is:  120\n"
     ]
    }
   ],
   "source": [
    "#Q4\n",
    "n=int(input('enter the number whose factorial to be found: '))\n",
    "fact=1\n",
    "while (n>1):\n",
    "    fact=fact*n\n",
    "    n=n-1\n",
    "print('the factorial is: ',fact)"
   ]
  },
  {
   "cell_type": "code",
   "execution_count": 5,
   "metadata": {},
   "outputs": [
    {
     "name": "stdout",
     "output_type": "stream",
     "text": [
      "enter the numbers: 5\n",
      "0\n",
      "1\n",
      "1\n",
      "2\n",
      "3\n"
     ]
    }
   ],
   "source": [
    "#Q5\n",
    "n=int(input('enter the numbers: '))\n",
    "f0=0\n",
    "f1=1\n",
    "print(f0)\n",
    "print(f1)\n",
    "for i in range(0,n-2):\n",
    "    f2=f0+f1;\n",
    "    f0=f1\n",
    "    f1=f2\n",
    "    print(f2)"
   ]
  },
  {
   "cell_type": "code",
   "execution_count": 6,
   "metadata": {},
   "outputs": [
    {
     "name": "stdout",
     "output_type": "stream",
     "text": [
      "enter the number: 45\n",
      "5\n",
      "4\n"
     ]
    }
   ],
   "source": [
    "#Q6\n",
    "n=int(input('enter the number: '))\n",
    "while (n>0):\n",
    "    m=n\n",
    "    m=m%10\n",
    "    n=n//10\n",
    "    print(m)"
   ]
  },
  {
   "cell_type": "code",
   "execution_count": 8,
   "metadata": {},
   "outputs": [
    {
     "name": "stdout",
     "output_type": "stream",
     "text": [
      "enter the number: 56\n",
      "11\n"
     ]
    }
   ],
   "source": [
    "#Q7\n",
    "n=int(input('enter the number: '))\n",
    "sum=0\n",
    "while (n>0):\n",
    "    m=n\n",
    "    m=m%10\n",
    "    n=n//10\n",
    "    sum+=m\n",
    "    \n",
    "print(sum)"
   ]
  },
  {
   "cell_type": "code",
   "execution_count": 17,
   "metadata": {},
   "outputs": [
    {
     "name": "stdout",
     "output_type": "stream",
     "text": [
      "enter the value for n: 5\n",
      "153\n"
     ]
    }
   ],
   "source": [
    "#Q8\n",
    "n=int(input('enter the value for n: '))\n",
    "sum=0\n",
    "for x in range(1,n+1):\n",
    "    fact=1\n",
    "    for i in range(1,x+1):\n",
    "        fact=fact*i\n",
    "    sum+=fact\n",
    "print(sum)"
   ]
  },
  {
   "cell_type": "code",
   "execution_count": 19,
   "metadata": {},
   "outputs": [
    {
     "name": "stdout",
     "output_type": "stream",
     "text": [
      "enter the  base: 2\n",
      "enter the exponent: 4\n",
      "16\n"
     ]
    }
   ],
   "source": [
    "#Q9\n",
    "b=int(input('enter the  base: '))\n",
    "e=int(input('enter the exponent: '))\n",
    "s=1\n",
    "for i in range(1,e+1):\n",
    "    s*=b\n",
    "print(s)"
   ]
  },
  {
   "cell_type": "code",
   "execution_count": 81,
   "metadata": {},
   "outputs": [
    {
     "name": "stdout",
     "output_type": "stream",
     "text": [
      "enter the value for n: 5\n",
      "\n",
      "*\n",
      "**\n",
      "***\n",
      "****\n",
      "*****\n",
      "\n",
      "*****\n",
      "****\n",
      "***\n",
      "**\n",
      "*\n",
      "\n",
      "     *\n",
      "    **\n",
      "   ***\n",
      "  ****\n",
      " *****\n",
      "\n",
      "\n",
      "* \n",
      "* * \n",
      "* * * \n",
      "* * * * \n",
      "* * * * * \n"
     ]
    }
   ],
   "source": [
    "#Q10\n",
    "n=int(input('enter the value for n: '))\n",
    "for i in range(0,n+1):\n",
    "    print('*'*i)\n",
    "\n",
    "print()\n",
    "for i in range(n,0,-1):\n",
    "    print('*'*i)\n",
    "    \n",
    "print()\n",
    "m=n+1\n",
    "for i in range(n,0,-1):\n",
    "    j=m-n\n",
    "    print(' '*(i-1),'*'*(j))\n",
    "    m+=1\n",
    "    \n",
    "print()\n",
    "\n",
    "for i in range(0,n+1):\n",
    "    for j in range(0,i):\n",
    "        print('*',end=' ')\n",
    "    print()"
   ]
  },
  {
   "cell_type": "code",
   "execution_count": 39,
   "metadata": {},
   "outputs": [
    {
     "name": "stdout",
     "output_type": "stream",
     "text": [
      "enter the value for n: 5\n",
      "1  \n",
      "2 2  \n",
      "3 3 3  \n",
      "4 4 4 4  \n",
      "5 5 5 5 5  \n",
      "\n",
      "1  \n",
      "1 2  \n",
      "1 2 3  \n",
      "1 2 3 4  \n",
      "1 2 3 4 5  \n",
      "\n",
      "5  \n",
      "4 4  \n",
      "3 3 3  \n",
      "2 2 2 2  \n",
      "1 1 1 1 1  \n",
      "\n",
      "        1\n",
      "       22\n",
      "      333\n",
      "     4444\n",
      "    55555\n",
      "\n",
      "\n",
      "* \n",
      "* * \n",
      "* * * \n",
      "* * * * \n",
      "* * * * * \n"
     ]
    }
   ],
   "source": [
    "#Q10\n",
    "n=int(input('enter the value for n: '))\n",
    "for i in range(1,n+1):\n",
    "    for j in range(1,i+1):\n",
    "        print(i,end=' ')\n",
    "    print(' ')\n",
    "    \n",
    "print()\n",
    "for i in range(1,n+1):\n",
    "    for j in range(1,i+1):\n",
    "        print(j,end=' ')\n",
    "    print(' ')\n",
    "    \n",
    "print()\n",
    "k=n\n",
    "for i in range(1,n+1):\n",
    "    for j in range(1,i+1):\n",
    "        print(k,end=' ')\n",
    "        \n",
    "    k-=1\n",
    "    print(' ')\n",
    "\n",
    "    \n",
    "print()\n",
    "      \n",
    "k = 2*n - 2\n",
    "for i in range(0, n): \n",
    "    for j in range(0, k): \n",
    "        print(end=\" \") \n",
    "    k = k - 1\n",
    "    for j in range(0, i+1): \n",
    "        print(i+1, end=\"\") \n",
    "            \n",
    "    print( )\n",
    "  \n",
    "    \n",
    "print()\n",
    "\n",
    "for i in range(0,n+1):\n",
    "    for j in range(0,i):\n",
    "        print('*',end=' ')\n",
    "    print()"
   ]
  },
  {
   "cell_type": "markdown",
   "metadata": {},
   "source": [
    "##### for num in range(6):"
   ]
  },
  {
   "cell_type": "code",
   "execution_count": 18,
   "metadata": {},
   "outputs": [
    {
     "name": "stdout",
     "output_type": "stream",
     "text": [
      "1\r\n",
      "12\r\n",
      "123\r\n",
      "1234\r\n",
      "12345\r\n"
     ]
    }
   ],
   "source": [
    "for i in range(0, n): \n",
    "      \n",
    "        for j in range(0, k): \n",
    "            print(end=\" \") \n",
    "       \n",
    "        k = k - 1\n",
    "      \n",
    "        for j in range(0, i+1): \n",
    "          \n",
    "            print(j+1, end=\"\") \n",
    "       \n",
    "        print(\"\\r\")"
   ]
  },
  {
   "cell_type": "code",
   "execution_count": 37,
   "metadata": {},
   "outputs": [
    {
     "name": "stdout",
     "output_type": "stream",
     "text": [
      "        1\n",
      "       22\n",
      "      333\n",
      "     4444\n",
      "    55555\n"
     ]
    }
   ],
   "source": [
    "      \n",
    "    k = 2*n - 2\n",
    "    for i in range(0, n): \n",
    "        for j in range(0, k): \n",
    "            print(end=\" \") \n",
    "        k = k - 1\n",
    "        for j in range(0, i+1): \n",
    "            print(i+1, end=\"\") \n",
    "            \n",
    "        print( )\n",
    "  "
   ]
  },
  {
   "cell_type": "code",
   "execution_count": null,
   "metadata": {},
   "outputs": [],
   "source": []
  }
 ],
 "metadata": {
  "kernelspec": {
   "display_name": "Python 3",
   "language": "python",
   "name": "python3"
  },
  "language_info": {
   "codemirror_mode": {
    "name": "ipython",
    "version": 3
   },
   "file_extension": ".py",
   "mimetype": "text/x-python",
   "name": "python",
   "nbconvert_exporter": "python",
   "pygments_lexer": "ipython3",
   "version": "3.7.3"
  }
 },
 "nbformat": 4,
 "nbformat_minor": 2
}
