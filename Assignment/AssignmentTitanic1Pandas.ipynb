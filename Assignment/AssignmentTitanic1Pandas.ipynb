{
 "cells": [
  {
   "cell_type": "markdown",
   "metadata": {},
   "source": [
    "|Variable|Definition|Key|\n",
    "|---|---|---|\n",
    "|survival|Survival|0 = No, 1 = Yes|\n",
    "|pclass|Ticket class|1 = 1st, 2 = 2nd, 3 = 3rd|\n",
    "|gender|gender ||\n",
    "|Age |Age in years| |\n",
    "|sibsp |number of siblings / spouses aboard|\t|\n",
    "|parch |number of parents / children aboard| |\n",
    "|ticket|Ticket number ||\n",
    "|fare | fare| \t|\n",
    "|cabin |Cabin number|\t|\n",
    "|embarked|Port of Embarkation|C = Cherbourg, Q = Queenstown, S = Southampton|\n",
    "|boat | Lifeboat||\n",
    "|body | Body Identification Number||\n",
    "|home.dest| Home/destination||"
   ]
  },
  {
   "cell_type": "markdown",
   "metadata": {},
   "source": []
  },
  {
   "cell_type": "markdown",
   "metadata": {},
   "source": [
    "- Read data and describe it\n",
    "- Find columns with missingdata\n",
    "- Print shape of dataset\n",
    "- drop columns with more than 25% missing data\n",
    "- drop columns having independent values(which do not affect the survival rate).\n",
    "\n",
    "\n",
    "- check data types of all columns\n",
    "- convert price to numeric\n",
    "- find columns still having missing/na values and also count of missing data\n",
    "- fill na with mean for fare and age column column.\n",
    "- drop na values for embarked column.\n",
    "- dump the dataframe to a csv file 'titanic_filtered.csv'.\n",
    "\n",
    "\n",
    "- for surviced column replace 0 with D and 1 with A\n",
    "- find the frequency of different values in survived column\n",
    "- group by gender and survived and see the counts in each category\n",
    "- find different pclass and no of people in each class\n",
    "\n",
    "- find top 5 people with highest values of age. Count no of male and females in the top 5\n",
    "- find max age male and female who survived\n",
    "- get average age by gender\n",
    "- get average age by people survived vs not-survived"
   ]
  },
  {
   "cell_type": "code",
   "execution_count": 1,
   "metadata": {},
   "outputs": [],
   "source": [
    "import pandas as pd"
   ]
  },
  {
   "cell_type": "code",
   "execution_count": 2,
   "metadata": {},
   "outputs": [
    {
     "name": "stdout",
     "output_type": "stream",
     "text": [
      "         Unnamed: 0       pclass     survived              name gender  \\\n",
      "count   1309.000000  1309.000000  1309.000000              1309   1309   \n",
      "unique          NaN          NaN          NaN              1307      2   \n",
      "top             NaN          NaN          NaN  Kelly, Mr. James   male   \n",
      "freq            NaN          NaN          NaN                 2    843   \n",
      "mean     654.000000     2.294882     0.381971               NaN    NaN   \n",
      "std      378.020061     0.837836     0.486055               NaN    NaN   \n",
      "min        0.000000     1.000000     0.000000               NaN    NaN   \n",
      "25%      327.000000     2.000000     0.000000               NaN    NaN   \n",
      "50%      654.000000     3.000000     0.000000               NaN    NaN   \n",
      "75%      981.000000     3.000000     1.000000               NaN    NaN   \n",
      "max     1308.000000     3.000000     1.000000               NaN    NaN   \n",
      "\n",
      "                age        sibsp        parch    ticket    fare        cabin  \\\n",
      "count   1046.000000  1309.000000  1309.000000      1309    1308          295   \n",
      "unique          NaN          NaN          NaN       929     263          186   \n",
      "top             NaN          NaN          NaN  CA. 2343  $8.05   C23 C25 C27   \n",
      "freq            NaN          NaN          NaN        11      60            6   \n",
      "mean      29.881135     0.498854     0.385027       NaN     NaN          NaN   \n",
      "std       14.413500     1.041658     0.865560       NaN     NaN          NaN   \n",
      "min        0.166700     0.000000     0.000000       NaN     NaN          NaN   \n",
      "25%       21.000000     0.000000     0.000000       NaN     NaN          NaN   \n",
      "50%       28.000000     0.000000     0.000000       NaN     NaN          NaN   \n",
      "75%       39.000000     1.000000     0.000000       NaN     NaN          NaN   \n",
      "max       80.000000     8.000000     9.000000       NaN     NaN          NaN   \n",
      "\n",
      "       embarked boat        body     home.dest  \n",
      "count      1307  486  121.000000           745  \n",
      "unique        3   27         NaN           369  \n",
      "top           S   13         NaN  New York, NY  \n",
      "freq        914   39         NaN            64  \n",
      "mean        NaN  NaN  160.809917           NaN  \n",
      "std         NaN  NaN   97.696922           NaN  \n",
      "min         NaN  NaN    1.000000           NaN  \n",
      "25%         NaN  NaN   72.000000           NaN  \n",
      "50%         NaN  NaN  155.000000           NaN  \n",
      "75%         NaN  NaN  256.000000           NaN  \n",
      "max         NaN  NaN  328.000000           NaN  \n"
     ]
    }
   ],
   "source": [
    "df = pd.read_csv(r'C:\\Users\\NOEL\\Desktop\\Data Science\\weekday2019_08_06-master\\weekday2019_08_06-master\\titanic_dataset.csv')\n",
    "print(df.describe(include = 'all'))\n"
   ]
  },
  {
   "cell_type": "code",
   "execution_count": 3,
   "metadata": {
    "scrolled": true
   },
   "outputs": [
    {
     "name": "stdout",
     "output_type": "stream",
     "text": [
      "    Unnamed: 0  pclass  survived  \\\n",
      "0            0       1         1   \n",
      "1            1       1         1   \n",
      "2            2       1         0   \n",
      "3            3       1         0   \n",
      "4            4       1         0   \n",
      "5            5       1         1   \n",
      "6            6       1         1   \n",
      "7            7       1         0   \n",
      "8            8       1         1   \n",
      "9            9       1         0   \n",
      "10          10       1         0   \n",
      "11          11       1         1   \n",
      "12          12       1         1   \n",
      "13          13       1         1   \n",
      "14          14       1         1   \n",
      "15          15       1         0   \n",
      "16          16       1         0   \n",
      "17          17       1         1   \n",
      "18          18       1         1   \n",
      "19          19       1         0   \n",
      "\n",
      "                                                 name  gender      age  sibsp  \\\n",
      "0                       Allen, Miss. Elisabeth Walton  female  29.0000      0   \n",
      "1                      Allison, Master. Hudson Trevor    male   0.9167      1   \n",
      "2                        Allison, Miss. Helen Loraine  female   2.0000      1   \n",
      "3                Allison, Mr. Hudson Joshua Creighton    male  30.0000      1   \n",
      "4     Allison, Mrs. Hudson J C (Bessie Waldo Daniels)  female  25.0000      1   \n",
      "5                                 Anderson, Mr. Harry    male  48.0000      0   \n",
      "6                   Andrews, Miss. Kornelia Theodosia  female  63.0000      1   \n",
      "7                              Andrews, Mr. Thomas Jr    male  39.0000      0   \n",
      "8       Appleton, Mrs. Edward Dale (Charlotte Lamson)  female  53.0000      2   \n",
      "9                             Artagaveytia, Mr. Ramon    male  71.0000      0   \n",
      "10                             Astor, Col. John Jacob    male  47.0000      1   \n",
      "11  Astor, Mrs. John Jacob (Madeleine Talmadge Force)  female  18.0000      1   \n",
      "12                      Aubart, Mme. Leontine Pauline  female  24.0000      0   \n",
      "13                       Barber, Miss. Ellen \"Nellie\"  female  26.0000      0   \n",
      "14               Barkworth, Mr. Algernon Henry Wilson    male  80.0000      0   \n",
      "15                                Baumann, Mr. John D    male      NaN      0   \n",
      "16                           Baxter, Mr. Quigg Edmond    male  24.0000      0   \n",
      "17    Baxter, Mrs. James (Helene DeLaudeniere Chaput)  female  50.0000      0   \n",
      "18                              Bazzani, Miss. Albina  female  32.0000      0   \n",
      "19                               Beattie, Mr. Thomson    male  36.0000      0   \n",
      "\n",
      "    parch    ticket      fare    cabin embarked boat   body  \\\n",
      "0       0     24160  $211.34        B5        S    2    NaN   \n",
      "1       2    113781  $151.55   C22 C26        S   11    NaN   \n",
      "2       2    113781  $151.55   C22 C26        S  NaN    NaN   \n",
      "3       2    113781  $151.55   C22 C26        S  NaN  135.0   \n",
      "4       2    113781  $151.55   C22 C26        S  NaN    NaN   \n",
      "5       0     19952   $26.55       E12        S    3    NaN   \n",
      "6       0     13502   $77.96        D7        S   10    NaN   \n",
      "7       0    112050    $0.00       A36        S  NaN    NaN   \n",
      "8       0     11769   $51.48      C101        S    D    NaN   \n",
      "9       0  PC 17609   $49.50       NaN        C  NaN   22.0   \n",
      "10      0  PC 17757  $227.53   C62 C64        C  NaN  124.0   \n",
      "11      0  PC 17757  $227.53   C62 C64        C    4    NaN   \n",
      "12      0  PC 17477   $69.30       B35        C    9    NaN   \n",
      "13      0     19877   $78.85       NaN        S    6    NaN   \n",
      "14      0     27042   $30.00       A23        S    B    NaN   \n",
      "15      0  PC 17318   $25.93       NaN        S  NaN    NaN   \n",
      "16      1  PC 17558  $247.52   B58 B60        C  NaN    NaN   \n",
      "17      1  PC 17558  $247.52   B58 B60        C    6    NaN   \n",
      "18      0     11813   $76.29       D15        C    8    NaN   \n",
      "19      0     13050   $75.24        C6        C    A    NaN   \n",
      "\n",
      "                          home.dest  \n",
      "0                      St Louis, MO  \n",
      "1   Montreal, PQ / Chesterville, ON  \n",
      "2   Montreal, PQ / Chesterville, ON  \n",
      "3   Montreal, PQ / Chesterville, ON  \n",
      "4   Montreal, PQ / Chesterville, ON  \n",
      "5                      New York, NY  \n",
      "6                        Hudson, NY  \n",
      "7                       Belfast, NI  \n",
      "8               Bayside, Queens, NY  \n",
      "9               Montevideo, Uruguay  \n",
      "10                     New York, NY  \n",
      "11                     New York, NY  \n",
      "12                    Paris, France  \n",
      "13                              NaN  \n",
      "14                    Hessle, Yorks  \n",
      "15                     New York, NY  \n",
      "16                     Montreal, PQ  \n",
      "17                     Montreal, PQ  \n",
      "18                              NaN  \n",
      "19                     Winnipeg, MN  \n"
     ]
    }
   ],
   "source": [
    "print(df.head(n=20))"
   ]
  },
  {
   "cell_type": "code",
   "execution_count": 4,
   "metadata": {},
   "outputs": [
    {
     "name": "stdout",
     "output_type": "stream",
     "text": [
      "(1309, 15)\n",
      "Unnamed: 0      int64\n",
      "pclass          int64\n",
      "survived        int64\n",
      "name           object\n",
      "gender         object\n",
      "age           float64\n",
      "sibsp           int64\n",
      "parch           int64\n",
      "ticket         object\n",
      "fare           object\n",
      "cabin          object\n",
      "embarked       object\n",
      "boat           object\n",
      "body          float64\n",
      "home.dest      object\n",
      "dtype: object\n",
      "Index(['Unnamed: 0', 'pclass', 'survived', 'name', 'gender', 'age', 'sibsp',\n",
      "       'parch', 'ticket', 'fare', 'cabin', 'embarked', 'boat', 'body',\n",
      "       'home.dest'],\n",
      "      dtype='object')\n"
     ]
    }
   ],
   "source": [
    "print(df.shape)\n",
    "print(df.dtypes)\n",
    "print(df.columns)"
   ]
  },
  {
   "cell_type": "code",
   "execution_count": 5,
   "metadata": {},
   "outputs": [
    {
     "name": "stdout",
     "output_type": "stream",
     "text": [
      "Unnamed: 0    False\n",
      "pclass        False\n",
      "survived      False\n",
      "name          False\n",
      "gender        False\n",
      "age            True\n",
      "sibsp         False\n",
      "parch         False\n",
      "ticket        False\n",
      "fare          False\n",
      "cabin          True\n",
      "embarked      False\n",
      "boat           True\n",
      "body           True\n",
      "home.dest      True\n",
      "dtype: bool\n",
      "(1309, 15)\n"
     ]
    }
   ],
   "source": [
    "print(df.isna().sum()/ df.shape[0] > 0.10) # or\n",
    "print(df.shape)"
   ]
  },
  {
   "cell_type": "code",
   "execution_count": 6,
   "metadata": {},
   "outputs": [
    {
     "name": "stdout",
     "output_type": "stream",
     "text": [
      "Index(['Unnamed: 0', 'pclass', 'survived', 'name', 'gender', 'age', 'sibsp',\n",
      "       'parch', 'ticket', 'fare', 'cabin', 'embarked', 'boat', 'home.dest'],\n",
      "      dtype='object')\n"
     ]
    }
   ],
   "source": [
    "df.drop(columns = ['body'], inplace = True)\n",
    "print(df.columns)"
   ]
  },
  {
   "cell_type": "code",
   "execution_count": 7,
   "metadata": {},
   "outputs": [],
   "source": [
    "df = pd.read_csv(r'C:\\Users\\NOEL\\Desktop\\Data Science\\weekday2019_08_06-master\\weekday2019_08_06-master\\titanic_dataset.csv')\n"
   ]
  },
  {
   "cell_type": "code",
   "execution_count": 8,
   "metadata": {},
   "outputs": [
    {
     "data": {
      "text/plain": [
       "array(['female', 'male'], dtype=object)"
      ]
     },
     "execution_count": 8,
     "metadata": {},
     "output_type": "execute_result"
    }
   ],
   "source": [
    "df.gender.unique()"
   ]
  },
  {
   "cell_type": "code",
   "execution_count": 9,
   "metadata": {},
   "outputs": [
    {
     "data": {
      "text/html": [
       "<div>\n",
       "<style scoped>\n",
       "    .dataframe tbody tr th:only-of-type {\n",
       "        vertical-align: middle;\n",
       "    }\n",
       "\n",
       "    .dataframe tbody tr th {\n",
       "        vertical-align: top;\n",
       "    }\n",
       "\n",
       "    .dataframe thead th {\n",
       "        text-align: right;\n",
       "    }\n",
       "</style>\n",
       "<table border=\"1\" class=\"dataframe\">\n",
       "  <thead>\n",
       "    <tr style=\"text-align: right;\">\n",
       "      <th></th>\n",
       "      <th>Unnamed: 0</th>\n",
       "      <th>pclass</th>\n",
       "      <th>survived</th>\n",
       "      <th>name</th>\n",
       "      <th>gender</th>\n",
       "      <th>age</th>\n",
       "      <th>sibsp</th>\n",
       "      <th>parch</th>\n",
       "      <th>ticket</th>\n",
       "      <th>fare</th>\n",
       "      <th>cabin</th>\n",
       "      <th>embarked</th>\n",
       "      <th>boat</th>\n",
       "      <th>body</th>\n",
       "      <th>home.dest</th>\n",
       "    </tr>\n",
       "  </thead>\n",
       "  <tbody>\n",
       "  </tbody>\n",
       "</table>\n",
       "</div>"
      ],
      "text/plain": [
       "Empty DataFrame\n",
       "Columns: [Unnamed: 0, pclass, survived, name, gender, age, sibsp, parch, ticket, fare, cabin, embarked, boat, body, home.dest]\n",
       "Index: []"
      ]
     },
     "execution_count": 9,
     "metadata": {},
     "output_type": "execute_result"
    }
   ],
   "source": [
    "df.gender.value_counts()\n",
    "df.dropna()"
   ]
  },
  {
   "cell_type": "code",
   "execution_count": 10,
   "metadata": {},
   "outputs": [
    {
     "data": {
      "text/html": [
       "<div>\n",
       "<style scoped>\n",
       "    .dataframe tbody tr th:only-of-type {\n",
       "        vertical-align: middle;\n",
       "    }\n",
       "\n",
       "    .dataframe tbody tr th {\n",
       "        vertical-align: top;\n",
       "    }\n",
       "\n",
       "    .dataframe thead th {\n",
       "        text-align: right;\n",
       "    }\n",
       "</style>\n",
       "<table border=\"1\" class=\"dataframe\">\n",
       "  <thead>\n",
       "    <tr style=\"text-align: right;\">\n",
       "      <th></th>\n",
       "      <th>Unnamed: 0</th>\n",
       "      <th>pclass</th>\n",
       "      <th>survived</th>\n",
       "      <th>name</th>\n",
       "      <th>gender</th>\n",
       "      <th>age</th>\n",
       "      <th>sibsp</th>\n",
       "      <th>parch</th>\n",
       "      <th>ticket</th>\n",
       "      <th>fare</th>\n",
       "      <th>embarked</th>\n",
       "    </tr>\n",
       "  </thead>\n",
       "  <tbody>\n",
       "    <tr>\n",
       "      <th>0</th>\n",
       "      <td>0</td>\n",
       "      <td>1</td>\n",
       "      <td>1</td>\n",
       "      <td>Allen, Miss. Elisabeth Walton</td>\n",
       "      <td>female</td>\n",
       "      <td>29.0000</td>\n",
       "      <td>0</td>\n",
       "      <td>0</td>\n",
       "      <td>24160</td>\n",
       "      <td>$211.34</td>\n",
       "      <td>S</td>\n",
       "    </tr>\n",
       "    <tr>\n",
       "      <th>1</th>\n",
       "      <td>1</td>\n",
       "      <td>1</td>\n",
       "      <td>1</td>\n",
       "      <td>Allison, Master. Hudson Trevor</td>\n",
       "      <td>male</td>\n",
       "      <td>0.9167</td>\n",
       "      <td>1</td>\n",
       "      <td>2</td>\n",
       "      <td>113781</td>\n",
       "      <td>$151.55</td>\n",
       "      <td>S</td>\n",
       "    </tr>\n",
       "    <tr>\n",
       "      <th>2</th>\n",
       "      <td>2</td>\n",
       "      <td>1</td>\n",
       "      <td>0</td>\n",
       "      <td>Allison, Miss. Helen Loraine</td>\n",
       "      <td>female</td>\n",
       "      <td>2.0000</td>\n",
       "      <td>1</td>\n",
       "      <td>2</td>\n",
       "      <td>113781</td>\n",
       "      <td>$151.55</td>\n",
       "      <td>S</td>\n",
       "    </tr>\n",
       "    <tr>\n",
       "      <th>3</th>\n",
       "      <td>3</td>\n",
       "      <td>1</td>\n",
       "      <td>0</td>\n",
       "      <td>Allison, Mr. Hudson Joshua Creighton</td>\n",
       "      <td>male</td>\n",
       "      <td>30.0000</td>\n",
       "      <td>1</td>\n",
       "      <td>2</td>\n",
       "      <td>113781</td>\n",
       "      <td>$151.55</td>\n",
       "      <td>S</td>\n",
       "    </tr>\n",
       "    <tr>\n",
       "      <th>4</th>\n",
       "      <td>4</td>\n",
       "      <td>1</td>\n",
       "      <td>0</td>\n",
       "      <td>Allison, Mrs. Hudson J C (Bessie Waldo Daniels)</td>\n",
       "      <td>female</td>\n",
       "      <td>25.0000</td>\n",
       "      <td>1</td>\n",
       "      <td>2</td>\n",
       "      <td>113781</td>\n",
       "      <td>$151.55</td>\n",
       "      <td>S</td>\n",
       "    </tr>\n",
       "  </tbody>\n",
       "</table>\n",
       "</div>"
      ],
      "text/plain": [
       "   Unnamed: 0  pclass  survived  \\\n",
       "0           0       1         1   \n",
       "1           1       1         1   \n",
       "2           2       1         0   \n",
       "3           3       1         0   \n",
       "4           4       1         0   \n",
       "\n",
       "                                              name  gender      age  sibsp  \\\n",
       "0                    Allen, Miss. Elisabeth Walton  female  29.0000      0   \n",
       "1                   Allison, Master. Hudson Trevor    male   0.9167      1   \n",
       "2                     Allison, Miss. Helen Loraine  female   2.0000      1   \n",
       "3             Allison, Mr. Hudson Joshua Creighton    male  30.0000      1   \n",
       "4  Allison, Mrs. Hudson J C (Bessie Waldo Daniels)  female  25.0000      1   \n",
       "\n",
       "   parch  ticket      fare embarked  \n",
       "0      0   24160  $211.34         S  \n",
       "1      2  113781  $151.55         S  \n",
       "2      2  113781  $151.55         S  \n",
       "3      2  113781  $151.55         S  \n",
       "4      2  113781  $151.55         S  "
      ]
     },
     "execution_count": 10,
     "metadata": {},
     "output_type": "execute_result"
    }
   ],
   "source": [
    "df.dropna(axis = 1, thresh = 1000).head()\n",
    "#df.head()"
   ]
  },
  {
   "cell_type": "code",
   "execution_count": 11,
   "metadata": {},
   "outputs": [
    {
     "name": "stdout",
     "output_type": "stream",
     "text": [
      "Index(['Unnamed: 0', 'pclass', 'survived', 'name', 'gender', 'age', 'sibsp',\n",
      "       'parch', 'ticket', 'fare', 'cabin', 'embarked', 'boat', 'body',\n",
      "       'home.dest'],\n",
      "      dtype='object')\n",
      "Index(['Unnamed: 0', 'pclass', 'survived', 'name', 'gender', 'age', 'sibsp',\n",
      "       'parch', 'ticket', 'fare', 'embarked', 'boat', 'home.dest'],\n",
      "      dtype='object')\n"
     ]
    }
   ],
   "source": [
    "print(df.columns)\n",
    "print(df.dropna(axis = 1, thresh = 330).columns)\n",
    "df2 = df.dropna(axis = 1, thresh = 330)"
   ]
  },
  {
   "cell_type": "code",
   "execution_count": 12,
   "metadata": {},
   "outputs": [
    {
     "data": {
      "text/html": [
       "<div>\n",
       "<style scoped>\n",
       "    .dataframe tbody tr th:only-of-type {\n",
       "        vertical-align: middle;\n",
       "    }\n",
       "\n",
       "    .dataframe tbody tr th {\n",
       "        vertical-align: top;\n",
       "    }\n",
       "\n",
       "    .dataframe thead th {\n",
       "        text-align: right;\n",
       "    }\n",
       "</style>\n",
       "<table border=\"1\" class=\"dataframe\">\n",
       "  <thead>\n",
       "    <tr style=\"text-align: right;\">\n",
       "      <th></th>\n",
       "      <th>Unnamed: 0</th>\n",
       "      <th>pclass</th>\n",
       "      <th>survived</th>\n",
       "      <th>age</th>\n",
       "      <th>sibsp</th>\n",
       "      <th>parch</th>\n",
       "      <th>body</th>\n",
       "    </tr>\n",
       "  </thead>\n",
       "  <tbody>\n",
       "    <tr>\n",
       "      <th>count</th>\n",
       "      <td>1309.000000</td>\n",
       "      <td>1309.000000</td>\n",
       "      <td>1309.000000</td>\n",
       "      <td>1046.000000</td>\n",
       "      <td>1309.000000</td>\n",
       "      <td>1309.000000</td>\n",
       "      <td>121.000000</td>\n",
       "    </tr>\n",
       "    <tr>\n",
       "      <th>mean</th>\n",
       "      <td>654.000000</td>\n",
       "      <td>2.294882</td>\n",
       "      <td>0.381971</td>\n",
       "      <td>29.881135</td>\n",
       "      <td>0.498854</td>\n",
       "      <td>0.385027</td>\n",
       "      <td>160.809917</td>\n",
       "    </tr>\n",
       "    <tr>\n",
       "      <th>std</th>\n",
       "      <td>378.020061</td>\n",
       "      <td>0.837836</td>\n",
       "      <td>0.486055</td>\n",
       "      <td>14.413500</td>\n",
       "      <td>1.041658</td>\n",
       "      <td>0.865560</td>\n",
       "      <td>97.696922</td>\n",
       "    </tr>\n",
       "    <tr>\n",
       "      <th>min</th>\n",
       "      <td>0.000000</td>\n",
       "      <td>1.000000</td>\n",
       "      <td>0.000000</td>\n",
       "      <td>0.166700</td>\n",
       "      <td>0.000000</td>\n",
       "      <td>0.000000</td>\n",
       "      <td>1.000000</td>\n",
       "    </tr>\n",
       "    <tr>\n",
       "      <th>25%</th>\n",
       "      <td>327.000000</td>\n",
       "      <td>2.000000</td>\n",
       "      <td>0.000000</td>\n",
       "      <td>21.000000</td>\n",
       "      <td>0.000000</td>\n",
       "      <td>0.000000</td>\n",
       "      <td>72.000000</td>\n",
       "    </tr>\n",
       "    <tr>\n",
       "      <th>50%</th>\n",
       "      <td>654.000000</td>\n",
       "      <td>3.000000</td>\n",
       "      <td>0.000000</td>\n",
       "      <td>28.000000</td>\n",
       "      <td>0.000000</td>\n",
       "      <td>0.000000</td>\n",
       "      <td>155.000000</td>\n",
       "    </tr>\n",
       "    <tr>\n",
       "      <th>75%</th>\n",
       "      <td>981.000000</td>\n",
       "      <td>3.000000</td>\n",
       "      <td>1.000000</td>\n",
       "      <td>39.000000</td>\n",
       "      <td>1.000000</td>\n",
       "      <td>0.000000</td>\n",
       "      <td>256.000000</td>\n",
       "    </tr>\n",
       "    <tr>\n",
       "      <th>max</th>\n",
       "      <td>1308.000000</td>\n",
       "      <td>3.000000</td>\n",
       "      <td>1.000000</td>\n",
       "      <td>80.000000</td>\n",
       "      <td>8.000000</td>\n",
       "      <td>9.000000</td>\n",
       "      <td>328.000000</td>\n",
       "    </tr>\n",
       "  </tbody>\n",
       "</table>\n",
       "</div>"
      ],
      "text/plain": [
       "        Unnamed: 0       pclass     survived          age        sibsp  \\\n",
       "count  1309.000000  1309.000000  1309.000000  1046.000000  1309.000000   \n",
       "mean    654.000000     2.294882     0.381971    29.881135     0.498854   \n",
       "std     378.020061     0.837836     0.486055    14.413500     1.041658   \n",
       "min       0.000000     1.000000     0.000000     0.166700     0.000000   \n",
       "25%     327.000000     2.000000     0.000000    21.000000     0.000000   \n",
       "50%     654.000000     3.000000     0.000000    28.000000     0.000000   \n",
       "75%     981.000000     3.000000     1.000000    39.000000     1.000000   \n",
       "max    1308.000000     3.000000     1.000000    80.000000     8.000000   \n",
       "\n",
       "             parch        body  \n",
       "count  1309.000000  121.000000  \n",
       "mean      0.385027  160.809917  \n",
       "std       0.865560   97.696922  \n",
       "min       0.000000    1.000000  \n",
       "25%       0.000000   72.000000  \n",
       "50%       0.000000  155.000000  \n",
       "75%       0.000000  256.000000  \n",
       "max       9.000000  328.000000  "
      ]
     },
     "execution_count": 12,
     "metadata": {},
     "output_type": "execute_result"
    }
   ],
   "source": [
    "df.head()\n",
    "df.describe()"
   ]
  },
  {
   "cell_type": "code",
   "execution_count": 13,
   "metadata": {},
   "outputs": [
    {
     "name": "stdout",
     "output_type": "stream",
     "text": [
      "False\n",
      "        Unnamed: 0       pclass     survived          age        sibsp  \\\n",
      "count  1309.000000  1309.000000  1309.000000  1309.000000  1309.000000   \n",
      "mean    654.000000     2.294882     0.381971    29.881135     0.498854   \n",
      "std     378.020061     0.837836     0.486055    12.883199     1.041658   \n",
      "min       0.000000     1.000000     0.000000     0.166700     0.000000   \n",
      "25%     327.000000     2.000000     0.000000    22.000000     0.000000   \n",
      "50%     654.000000     3.000000     0.000000    29.881135     0.000000   \n",
      "75%     981.000000     3.000000     1.000000    35.000000     1.000000   \n",
      "max    1308.000000     3.000000     1.000000    80.000000     8.000000   \n",
      "\n",
      "             parch        body  \n",
      "count  1309.000000  121.000000  \n",
      "mean      0.385027  160.809917  \n",
      "std       0.865560   97.696922  \n",
      "min       0.000000    1.000000  \n",
      "25%       0.000000   72.000000  \n",
      "50%       0.000000  155.000000  \n",
      "75%       0.000000  256.000000  \n",
      "max       9.000000  328.000000  \n"
     ]
    }
   ],
   "source": [
    "df.age.fillna(df.age.mean(), inplace = True)\n",
    "print(df.age.isna().any())\n",
    "print(df.describe())"
   ]
  },
  {
   "cell_type": "code",
   "execution_count": 14,
   "metadata": {},
   "outputs": [
    {
     "name": "stdout",
     "output_type": "stream",
     "text": [
      "['__class__', '__delattr__', '__dict__', '__dir__', '__doc__', '__eq__', '__format__', '__frozen', '__ge__', '__getattribute__', '__getitem__', '__gt__', '__hash__', '__init__', '__init_subclass__', '__iter__', '__le__', '__lt__', '__module__', '__ne__', '__new__', '__reduce__', '__reduce_ex__', '__repr__', '__setattr__', '__sizeof__', '__str__', '__subclasshook__', '__weakref__', '_freeze', '_get_series_list', '_is_categorical', '_make_accessor', '_orig', '_parent', '_validate', '_wrap_result', 'capitalize', 'cat', 'center', 'contains', 'count', 'decode', 'encode', 'endswith', 'extract', 'extractall', 'find', 'findall', 'get', 'get_dummies', 'index', 'isalnum', 'isalpha', 'isdecimal', 'isdigit', 'islower', 'isnumeric', 'isspace', 'istitle', 'isupper', 'join', 'len', 'ljust', 'lower', 'lstrip', 'match', 'normalize', 'pad', 'partition', 'repeat', 'replace', 'rfind', 'rindex', 'rjust', 'rpartition', 'rsplit', 'rstrip', 'slice', 'slice_replace', 'split', 'startswith', 'strip', 'swapcase', 'title', 'translate', 'upper', 'wrap', 'zfill']\n"
     ]
    }
   ],
   "source": [
    "print(dir(df.fare.str))"
   ]
  },
  {
   "cell_type": "code",
   "execution_count": 15,
   "metadata": {},
   "outputs": [
    {
     "name": "stdout",
     "output_type": "stream",
     "text": [
      "0    211.34 \n",
      "1    151.55 \n",
      "2    151.55 \n",
      "3    151.55 \n",
      "4    151.55 \n",
      "Name: fare, dtype: object\n",
      "0    211.34\n",
      "1    151.55\n",
      "2    151.55\n",
      "3    151.55\n",
      "4    151.55\n",
      "Name: fare, dtype: float64 float64\n"
     ]
    }
   ],
   "source": [
    "col = df.fare.str.replace('$','')\n",
    "print(col.head())\n",
    "col = col.astype('float')\n",
    "print(col.head(), col.dtype)\n",
    "\n",
    "df.fare = col"
   ]
  },
  {
   "cell_type": "code",
   "execution_count": 16,
   "metadata": {},
   "outputs": [
    {
     "data": {
      "text/plain": [
       "Unnamed: 0      int64\n",
       "pclass          int64\n",
       "survived        int64\n",
       "name           object\n",
       "gender         object\n",
       "age           float64\n",
       "sibsp           int64\n",
       "parch           int64\n",
       "ticket         object\n",
       "fare          float64\n",
       "cabin          object\n",
       "embarked       object\n",
       "boat           object\n",
       "body          float64\n",
       "home.dest      object\n",
       "dtype: object"
      ]
     },
     "execution_count": 16,
     "metadata": {},
     "output_type": "execute_result"
    }
   ],
   "source": [
    "df.dtypes"
   ]
  },
  {
   "cell_type": "code",
   "execution_count": 17,
   "metadata": {},
   "outputs": [],
   "source": [
    "df.to_csv('titanic.csv')"
   ]
  },
  {
   "cell_type": "code",
   "execution_count": 18,
   "metadata": {},
   "outputs": [
    {
     "name": "stdout",
     "output_type": "stream",
     "text": [
      "(array([ 51.,  21.,  22.,  40., 114., 160., 128., 385.,  97.,  64.,  51.,\n",
      "        57.,  38.,  27.,  21.,  20.,   5.,   5.,   2.,   1.]), array([ 0.1667  ,  4.158365,  8.15003 , 12.141695, 16.13336 , 20.125025,\n",
      "       24.11669 , 28.108355, 32.10002 , 36.091685, 40.08335 , 44.075015,\n",
      "       48.06668 , 52.058345, 56.05001 , 60.041675, 64.03334 , 68.025005,\n",
      "       72.01667 , 76.008335, 80.      ]), <a list of 20 Patch objects>)\n",
      "0.1667 80.0\n"
     ]
    }
   ],
   "source": [
    "import matplotlib.pyplot as plt\n",
    "\n",
    "r = plt.hist(df.age.values, bins = 20)\n",
    "print(r)\n",
    "print(df.age.min(), df.age.max()) # d = (80 -0.... )/20  -> 0.166 + d, +2d"
   ]
  },
  {
   "cell_type": "code",
   "execution_count": 19,
   "metadata": {},
   "outputs": [
    {
     "name": "stdout",
     "output_type": "stream",
     "text": [
      "male      843\n",
      "female    466\n",
      "Name: gender, dtype: int64\n"
     ]
    },
    {
     "data": {
      "text/plain": [
       "<matplotlib.axes._subplots.AxesSubplot at 0x1f01af5ff60>"
      ]
     },
     "execution_count": 19,
     "metadata": {},
     "output_type": "execute_result"
    },
    {
     "data": {
      "image/png": "[encoded data removed]",
      "text/plain": [
       "<Figure size 432x288 with 1 Axes>"
      ]
     },
     "metadata": {
      "needs_background": "light"
     },
     "output_type": "display_data"
    }
   ],
   "source": [
    "r = df.gender.value_counts()\n",
    "print(r)\n",
    "#plt.bar(r.index, r.values)\n",
    "r.plot(kind = 'barh')"
   ]
  },
  {
   "cell_type": "code",
   "execution_count": 20,
   "metadata": {},
   "outputs": [
    {
     "data": {
      "text/plain": [
       "<matplotlib.axes._subplots.AxesSubplot at 0x1f01afc9da0>"
      ]
     },
     "execution_count": 20,
     "metadata": {},
     "output_type": "execute_result"
    },
    {
     "data": {
      "image/png": "[encoded data removed]",
      "text/plain": [
       "<Figure size 432x288 with 1 Axes>"
      ]
     },
     "metadata": {},
     "output_type": "display_data"
    }
   ],
   "source": [
    "\n",
    "r.plot(kind = 'pie')"
   ]
  },
  {
   "cell_type": "code",
   "execution_count": 21,
   "metadata": {},
   "outputs": [
    {
     "name": "stdout",
     "output_type": "stream",
     "text": [
      "male      843\n",
      "female    466\n",
      "Name: gender, dtype: int64\n"
     ]
    },
    {
     "data": {
      "text/plain": [
       "([<matplotlib.patches.Wedge at 0x1f01b078940>,\n",
       "  <matplotlib.patches.Wedge at 0x1f01b086080>],\n",
       " [Text(-0.48083677220945115, 0.9893411941747885, 'male'),\n",
       "  Text(0.5245491049970633, -1.0792813518479694, 'female')])"
      ]
     },
     "execution_count": 21,
     "metadata": {},
     "output_type": "execute_result"
    },
    {
     "data": {
      "image/png": "[encoded data removed]",
      "text/plain": [
       "<Figure size 432x288 with 1 Axes>"
      ]
     },
     "metadata": {},
     "output_type": "display_data"
    }
   ],
   "source": [
    "print(r)\n",
    "plt.pie(r, labels = r.index, shadow = True, explode = [0,0.1])"
   ]
  },
  {
   "cell_type": "code",
   "execution_count": 22,
   "metadata": {},
   "outputs": [
    {
     "data": {
      "text/plain": [
       "<matplotlib.axes._subplots.AxesSubplot at 0x1f01b092518>"
      ]
     },
     "execution_count": 22,
     "metadata": {},
     "output_type": "execute_result"
    },
    {
     "data": {
      "image/png": "[encoded data removed]",
      "text/plain": [
       "<Figure size 432x288 with 1 Axes>"
      ]
     },
     "metadata": {
      "needs_background": "light"
     },
     "output_type": "display_data"
    }
   ],
   "source": [
    "df.age.plot(kind = 'box')\n"
   ]
  },
  {
   "cell_type": "code",
   "execution_count": 23,
   "metadata": {},
   "outputs": [
    {
     "data": {
      "image/png": "[encoded data removed]",
      "text/plain": [
       "<Figure size 432x288 with 1 Axes>"
      ]
     },
     "metadata": {
      "needs_background": "light"
     },
     "output_type": "display_data"
    }
   ],
   "source": [
    "plt.boxplot([1,2,3,4,5,6])\n",
    "plt.show()"
   ]
  },
  {
   "cell_type": "code",
   "execution_count": 24,
   "metadata": {},
   "outputs": [
    {
     "name": "stdout",
     "output_type": "stream",
     "text": [
      "False\n"
     ]
    },
    {
     "data": {
      "image/png": "[encoded data removed]",
      "text/plain": [
       "<Figure size 432x288 with 1 Axes>"
      ]
     },
     "metadata": {
      "needs_background": "light"
     },
     "output_type": "display_data"
    }
   ],
   "source": [
    "print(df.age.isna().any())\n",
    "df.age.fillna(df.age.mean(), inplace = True)\n",
    "plt.boxplot(df.age.values)\n",
    "plt.show()"
   ]
  },
  {
   "cell_type": "code",
   "execution_count": 25,
   "metadata": {},
   "outputs": [
    {
     "name": "stdout",
     "output_type": "stream",
     "text": [
      "      Unnamed: 0  pclass  survived  \\\n",
      "14            14       1         1   \n",
      "61            61       1         1   \n",
      "1235        1235       3         0   \n",
      "135          135       1         0   \n",
      "9              9       1         0   \n",
      "\n",
      "                                                   name  gender   age  sibsp  \\\n",
      "14                 Barkworth, Mr. Algernon Henry Wilson    male  80.0      0   \n",
      "61    Cavendish, Mrs. Tyrell William (Julia Florence...  female  76.0      1   \n",
      "1235                                Svensson, Mr. Johan    male  74.0      0   \n",
      "135                           Goldschmidt, Mr. George B    male  71.0      0   \n",
      "9                               Artagaveytia, Mr. Ramon    male  71.0      0   \n",
      "\n",
      "      parch    ticket   fare cabin embarked boat  body  \\\n",
      "14        0     27042  30.00   A23        S    B   NaN   \n",
      "61        0     19877  78.85   C46        S    6   NaN   \n",
      "1235      0    347060   7.78   NaN        S  NaN   NaN   \n",
      "135       0  PC 17754  34.65    A5        C  NaN   NaN   \n",
      "9         0  PC 17609  49.50   NaN        C  NaN  22.0   \n",
      "\n",
      "                    home.dest  \n",
      "14              Hessle, Yorks  \n",
      "61    Little Onn Hall, Staffs  \n",
      "1235                      NaN  \n",
      "135              New York, NY  \n",
      "9         Montevideo, Uruguay  \n"
     ]
    }
   ],
   "source": [
    "res = df.sort_values(by = ['age'], ascending = False)\n",
    "print(res.head())"
   ]
  },
  {
   "cell_type": "code",
   "execution_count": 26,
   "metadata": {},
   "outputs": [
    {
     "name": "stdout",
     "output_type": "stream",
     "text": [
      "{('S', 'female'): Int64Index([   0,    2,    4,    6,    8,   13,   21,   24,   28,   32,\n",
      "            ...\n",
      "            1231, 1247, 1260, 1261, 1265, 1267, 1273, 1276, 1279, 1290],\n",
      "           dtype='int64', length=291), ('S', 'male'): Int64Index([   1,    3,    5,    7,   14,   15,   20,   29,   30,   34,\n",
      "            ...\n",
      "            1289, 1291, 1292, 1293, 1294, 1295, 1296, 1297, 1298, 1308],\n",
      "           dtype='int64', length=623), ('C', 'male'): Int64Index([   9,   10,   16,   19,   22,   25,   26,   31,   39,   40,\n",
      "            ...\n",
      "            1253, 1255, 1256, 1277, 1299, 1301, 1302, 1303, 1306, 1307],\n",
      "           dtype='int64', length=157), ('C', 'female'): Int64Index([  11,   12,   17,   18,   23,   27,   35,   41,   43,   44,\n",
      "            ...\n",
      "            1057, 1122, 1123, 1244, 1257, 1258, 1286, 1300, 1304, 1305],\n",
      "           dtype='int64', length=113), (nan, 'female'): Int64Index([168, 284], dtype='int64'), ('Q', 'male'): Int64Index([ 206,  470,  472,  477,  487,  511,  683,  693,  694,  703,  713,\n",
      "             720,  723,  724,  727,  746,  776,  782,  797,  801,  802,  803,\n",
      "             804,  812,  814,  854,  871,  920,  924,  926,  929,  930,  931,\n",
      "             948,  962,  971,  988, 1000, 1003, 1005, 1009, 1016, 1029, 1030,\n",
      "            1032, 1069, 1070, 1072, 1073, 1074, 1080, 1141, 1142, 1143, 1144,\n",
      "            1145, 1162, 1163, 1167, 1193, 1195, 1215, 1249],\n",
      "           dtype='int64'), ('Q', 'female'): Int64Index([ 207,  208,  469,  562,  667,  682,  684,  686,  692,  695,  702,\n",
      "             709,  710,  725,  726,  745,  771,  779,  800,  818,  819,  841,\n",
      "             856,  859,  865,  886,  922,  923,  961,  984,  987,  992,  993,\n",
      "             999, 1001, 1002, 1004, 1006, 1007, 1008, 1012, 1023, 1028, 1039,\n",
      "            1040, 1042, 1043, 1044, 1054, 1071, 1076, 1077, 1078, 1081, 1095,\n",
      "            1124, 1146, 1149, 1198, 1216],\n",
      "           dtype='int64')}\n",
      "['__bytes__', '__class__', '__delattr__', '__dict__', '__dir__', '__doc__', '__eq__', '__format__', '__ge__', '__getattr__', '__getattribute__', '__getitem__', '__gt__', '__hash__', '__init__', '__init_subclass__', '__iter__', '__le__', '__len__', '__lt__', '__module__', '__ne__', '__new__', '__reduce__', '__reduce_ex__', '__repr__', '__setattr__', '__sizeof__', '__str__', '__subclasshook__', '__unicode__', '__weakref__', '_accessors', '_add_numeric_operations', '_agg_examples_doc', '_agg_see_also_doc', '_aggregate', '_aggregate_generic', '_aggregate_item_by_item', '_aggregate_multiple_funcs', '_apply_filter', '_apply_to_column_groupbys', '_apply_whitelist', '_assure_grouper', '_block_agg_axis', '_bool_agg', '_builtin_table', '_choose_path', '_concat_objects', '_constructor', '_cumcount_array', '_cython_agg_blocks', '_cython_agg_general', '_cython_table', '_cython_transform', '_decide_output_index', '_def_str', '_define_paths', '_deprecations', '_dir_additions', '_dir_deletions', '_fill', '_get_cythonized_result', '_get_data_to_aggregate', '_get_index', '_get_indices', '_gotitem', '_group_selection', '_insert_inaxis_grouper_inplace', '_internal_names', '_internal_names_set', '_is_builtin_func', '_is_cython_func', '_iterate_column_groupbys', '_iterate_slices', '_make_wrapper', '_obj_with_exclusions', '_post_process_cython_aggregate', '_python_agg_general', '_python_apply_general', '_reindex_output', '_reset_cache', '_reset_group_selection', '_selected_obj', '_selection', '_selection_list', '_selection_name', '_set_group_selection', '_set_result_index_ordered', '_shallow_copy', '_transform_fast', '_transform_general', '_transform_item_by_item', '_transform_should_cast', '_try_aggregate_string_function', '_try_cast', '_wrap_agged_blocks', '_wrap_aggregated_output', '_wrap_applied_output', '_wrap_generic_output', '_wrap_transformed_output', 'age', 'agg', 'aggregate', 'all', 'any', 'apply', 'backfill', 'bfill', 'boat', 'body', 'boxplot', 'cabin', 'corr', 'corrwith', 'count', 'cov', 'cumcount', 'cummax', 'cummin', 'cumprod', 'cumsum', 'describe', 'diff', 'dtypes', 'embarked', 'expanding', 'fare', 'ffill', 'fillna', 'filter', 'first', 'gender', 'get_group', 'groups', 'head', 'hist', 'idxmax', 'idxmin', 'indices', 'last', 'mad', 'max', 'mean', 'median', 'min', 'name', 'ndim', 'ngroup', 'ngroups', 'nth', 'nunique', 'ohlc', 'pad', 'parch', 'pclass', 'pct_change', 'pipe', 'plot', 'prod', 'quantile', 'rank', 'resample', 'rolling', 'sem', 'shift', 'sibsp', 'size', 'skew', 'std', 'sum', 'survived', 'tail', 'take', 'ticket', 'transform', 'tshift', 'var']\n"
     ]
    }
   ],
   "source": [
    "g = df.groupby(by = ['embarked', 'gender'])\n",
    "print(g.groups)\n",
    "\n",
    "g.age.sum()\n",
    "print(dir(g))\n"
   ]
  },
  {
   "cell_type": "code",
   "execution_count": 27,
   "metadata": {},
   "outputs": [
    {
     "name": "stdout",
     "output_type": "stream",
     "text": [
      "embarked  gender\n",
      "C         female    31.046168\n",
      "          male      32.352264\n",
      "Q         female    28.112014\n",
      "          male      30.573047\n",
      "S         female    28.063141\n",
      "          male      29.932080\n",
      "Name: age, dtype: float64\n",
      "MultiIndex(levels=[['C', 'Q', 'S'], ['female', 'male']],\n",
      "           codes=[[0, 0, 1, 1, 2, 2], [0, 1, 0, 1, 0, 1]],\n",
      "           names=['embarked', 'gender'])\n",
      "gender       female       male\n",
      "embarked                      \n",
      "C         31.046168  32.352264\n",
      "Q         28.112014  30.573047\n",
      "S         28.063141  29.932080\n"
     ]
    },
    {
     "data": {
      "image/png": "[encoded data removed]",
      "text/plain": [
       "<Figure size 432x288 with 1 Axes>"
      ]
     },
     "metadata": {
      "needs_background": "light"
     },
     "output_type": "display_data"
    }
   ],
   "source": [
    "import matplotlib.pyplot as plt\n",
    "g = df.groupby(by = ['embarked', 'gender'])\n",
    "\n",
    "r = g.age.mean()\n",
    "print(r)\n",
    "print(r.index)\n",
    "print(r.unstack())\n",
    "\n",
    "r.unstack().plot(kind = 'bar', stacked = True)\n",
    "plt.show()\n"
   ]
  },
  {
   "cell_type": "code",
   "execution_count": 28,
   "metadata": {},
   "outputs": [
    {
     "name": "stdout",
     "output_type": "stream",
     "text": [
      "          0         1         2         3          4\n",
      "0  1.000000  1.473684  1.947368  2.421053   2.894737\n",
      "1  3.368421  3.842105  4.315789  4.789474   5.263158\n",
      "2  5.736842  6.210526  6.684211  7.157895   7.631579\n",
      "3  8.105263  8.578947  9.052632  9.526316  10.000000\n"
     ]
    }
   ],
   "source": [
    "import numpy as np\n",
    "d = pd.DataFrame(np.linspace(1,10,20).reshape(4,5))\n",
    "print(d)"
   ]
  },
  {
   "cell_type": "code",
   "execution_count": 29,
   "metadata": {},
   "outputs": [
    {
     "name": "stdout",
     "output_type": "stream",
     "text": [
      "['__class__', '__contains__', '__delattr__', '__delitem__', '__dir__', '__doc__', '__eq__', '__format__', '__ge__', '__getattribute__', '__getitem__', '__gt__', '__hash__', '__init__', '__init_subclass__', '__iter__', '__le__', '__len__', '__lt__', '__ne__', '__new__', '__reduce__', '__reduce_ex__', '__repr__', '__setattr__', '__setitem__', '__sizeof__', '__str__', '__subclasshook__', 'clear', 'copy', 'fromkeys', 'get', 'items', 'keys', 'pop', 'popitem', 'setdefault', 'update', 'values']\n",
      "('S', 'female')\n",
      "   Unnamed: 0  pclass  survived  \\\n",
      "0           0       1         1   \n",
      "2           2       1         0   \n",
      "4           4       1         0   \n",
      "6           6       1         1   \n",
      "8           8       1         1   \n",
      "\n",
      "                                              name  gender   age  sibsp  \\\n",
      "0                    Allen, Miss. Elisabeth Walton  female  29.0      0   \n",
      "2                     Allison, Miss. Helen Loraine  female   2.0      1   \n",
      "4  Allison, Mrs. Hudson J C (Bessie Waldo Daniels)  female  25.0      1   \n",
      "6                Andrews, Miss. Kornelia Theodosia  female  63.0      1   \n",
      "8    Appleton, Mrs. Edward Dale (Charlotte Lamson)  female  53.0      2   \n",
      "\n",
      "   parch  ticket    fare    cabin embarked boat  body  \\\n",
      "0      0   24160  211.34       B5        S    2   NaN   \n",
      "2      2  113781  151.55  C22 C26        S  NaN   NaN   \n",
      "4      2  113781  151.55  C22 C26        S  NaN   NaN   \n",
      "6      0   13502   77.96       D7        S   10   NaN   \n",
      "8      0   11769   51.48     C101        S    D   NaN   \n",
      "\n",
      "                         home.dest  \n",
      "0                     St Louis, MO  \n",
      "2  Montreal, PQ / Chesterville, ON  \n",
      "4  Montreal, PQ / Chesterville, ON  \n",
      "6                       Hudson, NY  \n",
      "8              Bayside, Queens, NY  \n",
      "('S', 'male')\n",
      "    Unnamed: 0  pclass  survived                                  name gender  \\\n",
      "1            1       1         1        Allison, Master. Hudson Trevor   male   \n",
      "3            3       1         0  Allison, Mr. Hudson Joshua Creighton   male   \n",
      "5            5       1         1                   Anderson, Mr. Harry   male   \n",
      "7            7       1         0                Andrews, Mr. Thomas Jr   male   \n",
      "14          14       1         1  Barkworth, Mr. Algernon Henry Wilson   male   \n",
      "\n",
      "        age  sibsp  parch  ticket    fare    cabin embarked boat   body  \\\n",
      "1    0.9167      1      2  113781  151.55  C22 C26        S   11    NaN   \n",
      "3   30.0000      1      2  113781  151.55  C22 C26        S  NaN  135.0   \n",
      "5   48.0000      0      0   19952   26.55      E12        S    3    NaN   \n",
      "7   39.0000      0      0  112050    0.00      A36        S  NaN    NaN   \n",
      "14  80.0000      0      0   27042   30.00      A23        S    B    NaN   \n",
      "\n",
      "                          home.dest  \n",
      "1   Montreal, PQ / Chesterville, ON  \n",
      "3   Montreal, PQ / Chesterville, ON  \n",
      "5                      New York, NY  \n",
      "7                       Belfast, NI  \n",
      "14                    Hessle, Yorks  \n",
      "('C', 'male')\n",
      "    Unnamed: 0  pclass  survived                      name gender   age  \\\n",
      "9            9       1         0   Artagaveytia, Mr. Ramon   male  71.0   \n",
      "10          10       1         0    Astor, Col. John Jacob   male  47.0   \n",
      "16          16       1         0  Baxter, Mr. Quigg Edmond   male  24.0   \n",
      "19          19       1         0      Beattie, Mr. Thomson   male  36.0   \n",
      "22          22       1         1     Behr, Mr. Karl Howell   male  26.0   \n",
      "\n",
      "    sibsp  parch    ticket    fare    cabin embarked boat   body  \\\n",
      "9       0      0  PC 17609   49.50      NaN        C  NaN   22.0   \n",
      "10      1      0  PC 17757  227.53  C62 C64        C  NaN  124.0   \n",
      "16      0      1  PC 17558  247.52  B58 B60        C  NaN    NaN   \n",
      "19      0      0     13050   75.24       C6        C    A    NaN   \n",
      "22      0      0    111369   30.00     C148        C    5    NaN   \n",
      "\n",
      "              home.dest  \n",
      "9   Montevideo, Uruguay  \n",
      "10         New York, NY  \n",
      "16         Montreal, PQ  \n",
      "19         Winnipeg, MN  \n",
      "22         New York, NY  \n",
      "('C', 'female')\n",
      "    Unnamed: 0  pclass  survived  \\\n",
      "11          11       1         1   \n",
      "12          12       1         1   \n",
      "17          17       1         1   \n",
      "18          18       1         1   \n",
      "23          23       1         1   \n",
      "\n",
      "                                                 name  gender   age  sibsp  \\\n",
      "11  Astor, Mrs. John Jacob (Madeleine Talmadge Force)  female  18.0      1   \n",
      "12                      Aubart, Mme. Leontine Pauline  female  24.0      0   \n",
      "17    Baxter, Mrs. James (Helene DeLaudeniere Chaput)  female  50.0      0   \n",
      "18                              Bazzani, Miss. Albina  female  32.0      0   \n",
      "23                              Bidois, Miss. Rosalie  female  42.0      0   \n",
      "\n",
      "    parch    ticket    fare    cabin embarked boat  body      home.dest  \n",
      "11      0  PC 17757  227.53  C62 C64        C    4   NaN   New York, NY  \n",
      "12      0  PC 17477   69.30      B35        C    9   NaN  Paris, France  \n",
      "17      1  PC 17558  247.52  B58 B60        C    6   NaN   Montreal, PQ  \n",
      "18      0     11813   76.29      D15        C    8   NaN            NaN  \n",
      "23      0  PC 17757  227.53      NaN        C    4   NaN            NaN  \n",
      "(nan, 'female')\n"
     ]
    },
    {
     "ename": "KeyError",
     "evalue": "(nan, 'female')",
     "output_type": "error",
     "traceback": [
      "\u001b[1;31m---------------------------------------------------------------------------\u001b[0m",
      "\u001b[1;31mKeyError\u001b[0m                                  Traceback (most recent call last)",
      "\u001b[1;32m<ipython-input-29-5089bcedf1eb>\u001b[0m in \u001b[0;36m<module>\u001b[1;34m\u001b[0m\n\u001b[0;32m      6\u001b[0m \u001b[1;32mfor\u001b[0m \u001b[0mk\u001b[0m \u001b[1;32min\u001b[0m \u001b[0mg\u001b[0m\u001b[1;33m.\u001b[0m\u001b[0mgroups\u001b[0m\u001b[1;33m:\u001b[0m\u001b[1;33m\u001b[0m\u001b[1;33m\u001b[0m\u001b[0m\n\u001b[0;32m      7\u001b[0m     \u001b[0mprint\u001b[0m\u001b[1;33m(\u001b[0m\u001b[0mk\u001b[0m\u001b[1;33m)\u001b[0m\u001b[1;33m\u001b[0m\u001b[1;33m\u001b[0m\u001b[0m\n\u001b[1;32m----> 8\u001b[1;33m     \u001b[0mprint\u001b[0m\u001b[1;33m(\u001b[0m\u001b[0mg\u001b[0m\u001b[1;33m.\u001b[0m\u001b[0mget_group\u001b[0m\u001b[1;33m(\u001b[0m\u001b[0mk\u001b[0m\u001b[1;33m)\u001b[0m\u001b[1;33m.\u001b[0m\u001b[0mhead\u001b[0m\u001b[1;33m(\u001b[0m\u001b[1;33m)\u001b[0m\u001b[1;33m)\u001b[0m\u001b[1;33m\u001b[0m\u001b[1;33m\u001b[0m\u001b[0m\n\u001b[0m",
      "\u001b[1;32m~\\Anaconda3\\lib\\site-packages\\pandas\\core\\groupby\\groupby.py\u001b[0m in \u001b[0;36mget_group\u001b[1;34m(self, name, obj)\u001b[0m\n\u001b[0;32m    646\u001b[0m         \u001b[0minds\u001b[0m \u001b[1;33m=\u001b[0m \u001b[0mself\u001b[0m\u001b[1;33m.\u001b[0m\u001b[0m_get_index\u001b[0m\u001b[1;33m(\u001b[0m\u001b[0mname\u001b[0m\u001b[1;33m)\u001b[0m\u001b[1;33m\u001b[0m\u001b[1;33m\u001b[0m\u001b[0m\n\u001b[0;32m    647\u001b[0m         \u001b[1;32mif\u001b[0m \u001b[1;32mnot\u001b[0m \u001b[0mlen\u001b[0m\u001b[1;33m(\u001b[0m\u001b[0minds\u001b[0m\u001b[1;33m)\u001b[0m\u001b[1;33m:\u001b[0m\u001b[1;33m\u001b[0m\u001b[1;33m\u001b[0m\u001b[0m\n\u001b[1;32m--> 648\u001b[1;33m             \u001b[1;32mraise\u001b[0m \u001b[0mKeyError\u001b[0m\u001b[1;33m(\u001b[0m\u001b[0mname\u001b[0m\u001b[1;33m)\u001b[0m\u001b[1;33m\u001b[0m\u001b[1;33m\u001b[0m\u001b[0m\n\u001b[0m\u001b[0;32m    649\u001b[0m \u001b[1;33m\u001b[0m\u001b[0m\n\u001b[0;32m    650\u001b[0m         \u001b[1;32mreturn\u001b[0m \u001b[0mobj\u001b[0m\u001b[1;33m.\u001b[0m\u001b[0m_take\u001b[0m\u001b[1;33m(\u001b[0m\u001b[0minds\u001b[0m\u001b[1;33m,\u001b[0m \u001b[0maxis\u001b[0m\u001b[1;33m=\u001b[0m\u001b[0mself\u001b[0m\u001b[1;33m.\u001b[0m\u001b[0maxis\u001b[0m\u001b[1;33m)\u001b[0m\u001b[1;33m\u001b[0m\u001b[1;33m\u001b[0m\u001b[0m\n",
      "\u001b[1;31mKeyError\u001b[0m: (nan, 'female')"
     ]
    }
   ],
   "source": [
    "g = df.groupby(by = ['embarked', 'gender'])\n",
    "\n",
    "print(dir(g.groups))\n",
    "\n",
    "\n",
    "for k in g.groups:\n",
    "    print(k)\n",
    "    print(g.get_group(k).head())"
   ]
  }
 ],
 "metadata": {
  "kernelspec": {
   "display_name": "Python 3",
   "language": "python",
   "name": "python3"
  },
  "language_info": {
   "codemirror_mode": {
    "name": "ipython",
    "version": 3
   },
   "file_extension": ".py",
   "mimetype": "text/x-python",
   "name": "python",
   "nbconvert_exporter": "python",
   "pygments_lexer": "ipython3",
   "version": "3.7.3"
  }
 },
 "nbformat": 4,
 "nbformat_minor": 2
}
