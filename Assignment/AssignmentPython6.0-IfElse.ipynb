{
 "cells": [
  {
   "cell_type": "code",
   "execution_count": 2,
   "metadata": {},
   "outputs": [
    {
     "name": "stdout",
     "output_type": "stream",
     "text": [
      "enter the first number: 3\n",
      "enter the second number: 2\n",
      "False\n"
     ]
    }
   ],
   "source": [
    "#Q1\n",
    "n1=int(input('enter the first number: '))\n",
    "n2=int(input('enter the second number: '))\n",
    "if (n1%n2==0):\n",
    "    print('True')\n",
    "else:\n",
    "    print('False')"
   ]
  },
  {
   "cell_type": "code",
   "execution_count": 5,
   "metadata": {},
   "outputs": [
    {
     "name": "stdout",
     "output_type": "stream",
     "text": [
      "enter the string: naman\n",
      "naman  is a palindrome\n"
     ]
    }
   ],
   "source": [
    "#Q2\n",
    "s1=input('enter the string: ')\n",
    "s2=s1[::-1]\n",
    "s3=s1.upper()\n",
    "s4=s2.upper()\n",
    "if (s3==s4):\n",
    "    print(s1,' is a palindrome')\n",
    "else:\n",
    "        print(s1,' is a not palindrome')"
   ]
  },
  {
   "cell_type": "code",
   "execution_count": 12,
   "metadata": {},
   "outputs": [
    {
     "name": "stdout",
     "output_type": "stream",
     "text": [
      "enter the first side: 4\n",
      "enter the second side: 4\n",
      "enter the third side: 4\n",
      "equilateral\n"
     ]
    }
   ],
   "source": [
    "#Q3\n",
    "a=int(input('enter the first side: '))\n",
    "b=int(input('enter the second side: '))\n",
    "c=int(input('enter the third side: '))\n",
    "if (a==b and b==c):\n",
    "    print('equilateral')\n",
    "elif (a==b or b==c or a==c):\n",
    "    print('isololes')\n",
    "else:\n",
    "    print('scalene')"
   ]
  },
  {
   "cell_type": "code",
   "execution_count": 16,
   "metadata": {},
   "outputs": [
    {
     "name": "stdout",
     "output_type": "stream",
     "text": [
      "enter the number: 2\n",
      "even\n"
     ]
    }
   ],
   "source": [
    "#Q4\n",
    "n=int(input('enter the number: '))\n",
    "if (n%2==0):\n",
    "    print('even')\n",
    "else:\n",
    "    print('odd')"
   ]
  },
  {
   "cell_type": "code",
   "execution_count": 22,
   "metadata": {},
   "outputs": [
    {
     "name": "stdout",
     "output_type": "stream",
     "text": [
      "enter the age: 120\n",
      "Congratulation\n"
     ]
    }
   ],
   "source": [
    "#Q5\n",
    "age=int(input('enter the age: '))\n",
    "if(age>=0 and age<=12):\n",
    "    print('Child')\n",
    "elif(age>=13 and age<=17):\n",
    "    print('Teen')\n",
    "elif(age>=18 and age<=50):\n",
    "    print('adult')\n",
    "elif(age>=51 and age<=100):\n",
    "    print('Senior Citizen')\n",
    "else:\n",
    "    print('Congratulation')"
   ]
  },
  {
   "cell_type": "code",
   "execution_count": 28,
   "metadata": {},
   "outputs": [
    {
     "name": "stdout",
     "output_type": "stream",
     "text": [
      "enter the string: rahul\n",
      "RAHUL\n"
     ]
    }
   ],
   "source": [
    "#Q7\n",
    "s=input('enter the string: ')\n",
    "if (len(s)%2==0):\n",
    "    print(s)\n",
    "else:\n",
    "    print(s.upper())"
   ]
  },
  {
   "cell_type": "code",
   "execution_count": 2,
   "metadata": {},
   "outputs": [
    {
     "name": "stdout",
     "output_type": "stream",
     "text": [
      "enter the string: sdfeggsdf\n",
      "Non-Veg\n"
     ]
    }
   ],
   "source": [
    "#Q8\n",
    "s1=input('enter the string: ')\n",
    "if('egg' in s1):\n",
    "    print('Non-Veg')\n",
    "else:\n",
    "    print('Veg')"
   ]
  },
  {
   "cell_type": "markdown",
   "metadata": {},
   "source": [
    "#### Q9\n",
    "true , true\n",
    "\n",
    "weird !! , [4,3,2,1]"
   ]
  },
  {
   "cell_type": "code",
   "execution_count": 15,
   "metadata": {},
   "outputs": [
    {
     "name": "stdout",
     "output_type": "stream",
     "text": [
      "Enter subject 1 marks: 90\n",
      "Enter subject 2 marks: 78\n",
      "Enter subject 3 marks: 89\n",
      "Enter subject 4 marks: 80\n",
      "Enter subject 5 marks: 78\n",
      "83.0\n",
      "Grade B\n"
     ]
    }
   ],
   "source": [
    "#Q10\n",
    "sub1 = int(input(\"Enter subject 1 marks: \"))\n",
    "sub2 = int(input(\"Enter subject 2 marks: \"))\n",
    "sub3 = int(input(\"Enter subject 3 marks: \"))\n",
    "sub4 = int(input(\"Enter subject 4 marks: \"))\n",
    "sub5 = int(input(\"Enter subject 5 marks: \"))\n",
    "\n",
    "percentage = (100*(sub1+ sub2 + sub3 + sub4 + sub5))/500\n",
    "print(percentage)\n",
    "\n",
    "if (percentage >= 90 and percentage <=100):\n",
    "    print(\"Grade A\")\n",
    "elif (percentage >= 80 and percentage <=89):\n",
    "    print(\"Grade B\")\n",
    "elif(percentage >= 60 and percentage <=79):\n",
    "    print(\"Grade C\")\n",
    "else:\n",
    "    print(\"Grade F\")\n"
   ]
  },
  {
   "cell_type": "code",
   "execution_count": 14,
   "metadata": {},
   "outputs": [
    {
     "name": "stdout",
     "output_type": "stream",
     "text": [
      "Enter age: 25\n",
      "Enter salary: 650000\n",
      "tax is:  65000.0\n"
     ]
    }
   ],
   "source": [
    "#Q11\n",
    "age = int(input(\"Enter age: \"))\n",
    "sal = int(input(\"Enter salary: \"))\n",
    "\n",
    "if(sal > 0 and sal<=250000):\n",
    "    if(age> 60 or age<=60):\n",
    "        print(\"tax is: \",(0/100)*sal)\n",
    "elif(sal >250000 and sal<=500000):\n",
    "    if(age<60):\n",
    "        print(\"tax is: \",(5/100)*sal)\n",
    "    else:\n",
    "        print(\"tax is: \",(3/100)*sal)\n",
    "elif(sal >500000 and sal<=1000000):\n",
    "    if(age<60):\n",
    "        print(\"tax is: \",(10/100)*sal)\n",
    "    else:\n",
    "        print(\"tax is: \",(8/100)*sal)\n",
    "else:\n",
    "    if(age<60):\n",
    "        print(\"tax is: \",(15/100)*sal)\n",
    "    else:\n",
    "        print(\"tax is: \",(12/100)*sal)"
   ]
  },
  {
   "cell_type": "markdown",
   "metadata": {},
   "source": [
    "#### Q12\n",
    "10, 10, 10, OMG"
   ]
  },
  {
   "cell_type": "code",
   "execution_count": 4,
   "metadata": {},
   "outputs": [
    {
     "name": "stdout",
     "output_type": "stream",
     "text": [
      "enter the weight78\n",
      "enter the height15\n",
      "0.3466666666666667\n",
      "Under Weight\n"
     ]
    }
   ],
   "source": [
    "#Q13\n",
    "def bmi(w,h):\n",
    "    w=int(input('enter the weight'))\n",
    "    h=int(input('enter the height'))\n",
    "    b=w/(h * h)\n",
    "    print(b)\n",
    "    return b\n",
    "x=0\n",
    "y=0\n",
    "b=bmi(x,y)\n",
    "if (b < 18.5 ):\n",
    "    print(\"Under Weight\")\n",
    "elif (b < 25 and bmi > 18.5):\n",
    "    print(\"Normal Weight\")\n",
    "elif(b > 25 and bmi < 30):\n",
    "    print(\"Over Weight\")\n",
    "else:\n",
    "    print(\"Obese\")"
   ]
  },
  {
   "cell_type": "code",
   "execution_count": 8,
   "metadata": {},
   "outputs": [
    {
     "name": "stdout",
     "output_type": "stream",
     "text": [
      "enter the age1: 12\n",
      "enter the age1: 55\n",
      "enter the age1: 45\n",
      "55  is oldest\n",
      "12  is the youngest\n"
     ]
    }
   ],
   "source": [
    "#Q14\n",
    "age1=int(input('enter the age1: '))\n",
    "age2=int(input('enter the age1: '))\n",
    "age3=int(input('enter the age1: '))\n",
    "\n",
    "if(age1>age2 and age1>age3):\n",
    "    print(age1,' is oldest')\n",
    "    if(age2<age3):\n",
    "        print(age2,' is the youngest')\n",
    "    else:\n",
    "        print(age3,' is the youngest')\n",
    "elif(age1<age2 and age2>age3):\n",
    "    print(age2,' is oldest')\n",
    "    if(age1<age3):\n",
    "        print(age1,' is the youngest')\n",
    "    else:\n",
    "        print(age3,' is the youngest')\n",
    "else:\n",
    "    print(age3,' is the oldest')\n",
    "    if(age1<age2):\n",
    "        print(age1,' is the youngest')\n",
    "    else:\n",
    "        print(age2,' is the youngest')\n",
    "    "
   ]
  },
  {
   "cell_type": "code",
   "execution_count": 10,
   "metadata": {},
   "outputs": [
    {
     "name": "stdout",
     "output_type": "stream",
     "text": [
      "enter the number: 21\n",
      "21  is not divisible by 5 and 7\n"
     ]
    }
   ],
   "source": [
    "#Q15\n",
    "num=int(input('enter the number: '))\n",
    "if((num%5==0) and (num%7==0)):\n",
    "    print(num,' is divisible by 5 and 7')\n",
    "else:\n",
    "    print(num,' is not divisible by 5 and 7')"
   ]
  },
  {
   "cell_type": "code",
   "execution_count": null,
   "metadata": {},
   "outputs": [],
   "source": []
  }
 ],
 "metadata": {
  "kernelspec": {
   "display_name": "Python 3",
   "language": "python",
   "name": "python3"
  },
  "language_info": {
   "codemirror_mode": {
    "name": "ipython",
    "version": 3
   },
   "file_extension": ".py",
   "mimetype": "text/x-python",
   "name": "python",
   "nbconvert_exporter": "python",
   "pygments_lexer": "ipython3",
   "version": "3.7.3"
  }
 },
 "nbformat": 4,
 "nbformat_minor": 2
}
